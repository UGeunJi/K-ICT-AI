{
  "nbformat": 4,
  "nbformat_minor": 0,
  "metadata": {
    "colab": {
      "provenance": []
    },
    "kernelspec": {
      "name": "python3",
      "display_name": "Python 3"
    },
    "language_info": {
      "name": "python"
    }
  },
  "cells": [
    {
      "cell_type": "markdown",
      "source": [
        "# 1. Linear Regression"
      ],
      "metadata": {
        "id": "4I-jPOz3Cmbb"
      }
    },
    {
      "cell_type": "markdown",
      "source": [
        "## 1 - 1. Linear Regression"
      ],
      "metadata": {
        "id": "_n7PtzpBS8ez"
      }
    },
    {
      "cell_type": "code",
      "execution_count": null,
      "metadata": {
        "id": "FNWPx6Yq8rqn"
      },
      "outputs": [],
      "source": [
        "x = [1, 2, 3]\n",
        "y = [1, 3, 2]"
      ]
    },
    {
      "cell_type": "code",
      "source": [
        "x"
      ],
      "metadata": {
        "colab": {
          "base_uri": "https://localhost:8080/"
        },
        "id": "LSAowP9FS8Hq",
        "outputId": "5708c37c-3299-45f4-f6ed-316143075bb7"
      },
      "execution_count": null,
      "outputs": [
        {
          "output_type": "execute_result",
          "data": {
            "text/plain": [
              "[1, 2, 3]"
            ]
          },
          "metadata": {},
          "execution_count": 2
        }
      ]
    },
    {
      "cell_type": "code",
      "source": [
        "y"
      ],
      "metadata": {
        "colab": {
          "base_uri": "https://localhost:8080/"
        },
        "id": "m9ZQ1JjRS8EZ",
        "outputId": "6e86d354-27f5-4077-cdb6-197ce779780f"
      },
      "execution_count": null,
      "outputs": [
        {
          "output_type": "execute_result",
          "data": {
            "text/plain": [
              "[1, 3, 2]"
            ]
          },
          "metadata": {},
          "execution_count": 3
        }
      ]
    },
    {
      "cell_type": "code",
      "source": [
        "sumx = 0\n",
        "sumy = 0\n",
        "\n",
        "for i in range(3):\n",
        "    sumx += x[i]\n",
        "    sumy += y[i]\n",
        "\n",
        "mean_x = sumx / 3\n",
        "mean_y = sumy / 3\n",
        "\n",
        "print(mean_x, mean_y)"
      ],
      "metadata": {
        "colab": {
          "base_uri": "https://localhost:8080/"
        },
        "id": "gnHE1_KhS8BL",
        "outputId": "705d1b04-cd75-4e4d-80e4-d895f4df57af"
      },
      "execution_count": null,
      "outputs": [
        {
          "output_type": "stream",
          "name": "stdout",
          "text": [
            "2.0 2.0\n"
          ]
        }
      ]
    },
    {
      "cell_type": "code",
      "source": [
        "sumxx = 0\n",
        "sumxy = 0\n",
        "\n",
        "for i in range(3):\n",
        "    sumxy += (x[i] - mean_x) * (y[i] - mean_y)\n",
        "    sumxx += (x[i] - mean_x) * (x[i] - mean_x)\n",
        "\n",
        "beta = sumxy / sumxx\n",
        "alpha = mean_y - beta * mean_x\n",
        "\n",
        "print(alpha, beta)"
      ],
      "metadata": {
        "colab": {
          "base_uri": "https://localhost:8080/"
        },
        "id": "rTEwYhB8Tq1i",
        "outputId": "db65edb9-fda3-43e7-f729-62b8c441aaa8"
      },
      "execution_count": null,
      "outputs": [
        {
          "output_type": "stream",
          "name": "stdout",
          "text": [
            "1.0 0.5\n"
          ]
        }
      ]
    },
    {
      "cell_type": "code",
      "source": [
        "import numpy as np\n",
        "\n",
        "x = np.array([[1, 1], [1, 2], [1, 3]])\n",
        "y = np.array([1, 3, 2])\n",
        "\n",
        "temp1 = np.linalg.inv(np.dot(x.T, x))\n",
        "temp2 = np.dot(x.T, y)\n",
        "\n",
        "beta = np.dot(temp1, temp2)\n",
        "\n",
        "print(beta)"
      ],
      "metadata": {
        "colab": {
          "base_uri": "https://localhost:8080/"
        },
        "id": "zyAY-0KfTqy7",
        "outputId": "9058e277-2290-49f4-dfb3-bfcdb9d2698f"
      },
      "execution_count": null,
      "outputs": [
        {
          "output_type": "stream",
          "name": "stdout",
          "text": [
            "[1.  0.5]\n"
          ]
        }
      ]
    },
    {
      "cell_type": "markdown",
      "source": [
        "### Linear Regression by Gradient Descent algorithm\n",
        "\n",
        "* 아래의 수식에서 w, b를 구하는 문제다. \n",
        "$$ Y_i = b + w \\cdot x_i + \\epsilon_i $$\n",
        "\n",
        "* Gradient  Descent algorithm\n",
        "$$ w = w - \\lambda \\frac {\\partial} {\\partial w} cost(w) $$\n",
        "\n",
        "* cost function\n",
        "$$ cost(b,w) = \\sum (Y_i - b - w\\cdot x_i)^2$$\n",
        "\n",
        "* derivatives of cost function\n",
        "$$ \\frac {\\partial} {\\partial w} \\sum (Y_i - b - w\\cdot x_i)^2  =-\\sum x_i y_i + b \\sum x_i + w \\sum x_i^2 $$\n",
        "\n",
        "$$ \\frac {\\partial} {\\partial b} \\sum (Y_i - b - w\\cdot x_i)^2  =-\\sum y_i + nb + w \\sum x_i $$"
      ],
      "metadata": {
        "id": "2cFMSDkZ0akY"
      }
    },
    {
      "cell_type": "code",
      "source": [
        "import numpy as np\n",
        "\n",
        "def deriv(w):\n",
        "    partial_b = -np.sum(y) + 3 * w[0] + w[1] * np.sum(x)\n",
        "    partial_w = -np.sum(x*y) + w[0] * np.sum(x) + w[1] * np.sum(x*x)\n",
        "    return np.array([partial_b, partial_w])\n",
        "\n",
        "x=np.array([1,2,3])\n",
        "y=np.array([1,2,3])\n",
        "\n",
        "w = np.array([0.5,0.5])   # Solution = [0, 1]\n",
        "\n",
        "yhat =w[0] + w[1] * x\n",
        "\n",
        "lamda = 0.1\n",
        "for i in range(1000):\n",
        "    w = w - lamda * deriv(w)\n",
        "    if i % 100 == 0: print(w[0], w[1])"
      ],
      "metadata": {
        "colab": {
          "base_uri": "https://localhost:8080/"
        },
        "id": "sSECEMPVTqwV",
        "outputId": "7f69c7ce-0962-4383-b7cf-e2a095c8514b"
      },
      "execution_count": null,
      "outputs": [
        {
          "output_type": "stream",
          "name": "stdout",
          "text": [
            "0.65 0.9\n",
            "0.014776534847528352 0.9934997769589904\n",
            "0.000375508029270005 0.9998348133734242\n",
            "9.542580957027915e-06 0.9999958022022588\n",
            "2.4250041064626826e-07 0.9999998933236531\n",
            "6.162531068493365e-09 0.999999997289092\n",
            "1.5660500090626665e-10 0.9999999999311092\n",
            "3.979621904419414e-12 0.9999999999982493\n",
            "1.0121319911487751e-13 0.9999999999999557\n",
            "2.6253945281636192e-15 0.999999999999999\n"
          ]
        }
      ]
    },
    {
      "cell_type": "code",
      "metadata": {
        "id": "jekkEXFFuvNN"
      },
      "source": [
        "import numpy as np\n",
        "import matplotlib.pyplot as plt\n",
        "from matplotlib import cm\n",
        "from mpl_toolkits.mplot3d import Axes3D"
      ],
      "execution_count": null,
      "outputs": []
    },
    {
      "cell_type": "code",
      "metadata": {
        "id": "qKIh7JwIwDp8"
      },
      "source": [
        "n = 100\n",
        "a = np.linspace(-2, 2, n)\n",
        "b = np.linspace(-1, 3, n)\n",
        "a, b = np.meshgrid(a, b)"
      ],
      "execution_count": null,
      "outputs": []
    },
    {
      "cell_type": "code",
      "metadata": {
        "id": "iFDcapA4xC1N",
        "colab": {
          "base_uri": "https://localhost:8080/"
        },
        "outputId": "5c34d86f-06ff-4594-817e-6846df7a05b4"
      },
      "source": [
        "a.shape, b.shape"
      ],
      "execution_count": null,
      "outputs": [
        {
          "output_type": "execute_result",
          "data": {
            "text/plain": [
              "((100, 100), (100, 100))"
            ]
          },
          "metadata": {},
          "execution_count": 18
        }
      ]
    },
    {
      "cell_type": "code",
      "metadata": {
        "id": "RP6mt4QbwZYS"
      },
      "source": [
        "xy = [[1,1],\n",
        "      [2,2],\n",
        "      [3,3]]\n",
        "\n",
        "cost =np.zeros((100, 100))\n",
        "for val in xy:\n",
        "    temp = (val[1]- a - b*val[0])**2\n",
        "    cost += temp"
      ],
      "execution_count": null,
      "outputs": []
    },
    {
      "cell_type": "code",
      "metadata": {
        "id": "c89_flOswx-m",
        "colab": {
          "base_uri": "https://localhost:8080/"
        },
        "outputId": "09dae112-24d2-4dec-bc33-68f48544f483"
      },
      "source": [
        "cost.shape"
      ],
      "execution_count": null,
      "outputs": [
        {
          "output_type": "execute_result",
          "data": {
            "text/plain": [
              "(100, 100)"
            ]
          },
          "metadata": {},
          "execution_count": 20
        }
      ]
    },
    {
      "cell_type": "code",
      "metadata": {
        "id": "7ecKsODL0XlE",
        "colab": {
          "base_uri": "https://localhost:8080/",
          "height": 433
        },
        "outputId": "ea7857a7-18bd-4d3e-97bd-f56bd6463cda"
      },
      "source": [
        "ax = plt.axes(projection='3d')\n",
        "ax.contour3D(a, b, cost, 100, cmap='binary')\n"
      ],
      "execution_count": null,
      "outputs": [
        {
          "output_type": "execute_result",
          "data": {
            "text/plain": [
              "<matplotlib.contour.QuadContourSet at 0x7fc15a18a200>"
            ]
          },
          "metadata": {},
          "execution_count": 21
        },
        {
          "output_type": "display_data",
          "data": {
            "text/plain": [
              "<Figure size 640x480 with 1 Axes>"
            ],
            "image/png": "[encoded data removed]"
          },
          "metadata": {}
        }
      ]
    },
    {
      "cell_type": "markdown",
      "source": [
        "## 1 - 2. Logistic Regression "
      ],
      "metadata": {
        "id": "OLHTCElJ24Zv"
      }
    },
    {
      "cell_type": "code",
      "source": [
        "import numpy as np\n",
        "\n",
        "def sig(x):\n",
        "    return 1/(1+np.exp(-x))\n",
        "\n",
        "def deriv(x, y, w, b):\n",
        "    sum1 = 0\n",
        "    sum2 = 0\n",
        "    n = y.shape[0]\n",
        "    for i in range(n):\n",
        "        _tmp = y[i] - sig(w*x[i]+b)\n",
        "        sum1 += _tmp\n",
        "        sum2 += _tmp * x[i]\n",
        "    return -sum1, -sum2"
      ],
      "metadata": {
        "id": "liV7pl9ITqq5"
      },
      "execution_count": null,
      "outputs": []
    },
    {
      "cell_type": "code",
      "source": [
        "x = np.array([1,2,3,4,5,6])\n",
        "y = np.array([0,0,0,1,1,1])\n",
        "z = (x - np.min(x))/(np.max(x)-np.min(x))\n",
        "lamda = 0.1\n",
        "b = 1\n",
        "w = 1\n",
        "\n",
        "for i in range(2000):\n",
        "    b = b - lamda * deriv(z, y, w, b)[0]\n",
        "    w = w - lamda * deriv(z, y, w, b)[1]\n",
        "    if i % 100 == 0: print(b,w)"
      ],
      "metadata": {
        "colab": {
          "base_uri": "https://localhost:8080/"
        },
        "id": "n1VWO1gUTqoY",
        "outputId": "e19e224f-3399-45fb-d984-e064a571140d"
      },
      "execution_count": null,
      "outputs": [
        {
          "output_type": "stream",
          "name": "stdout",
          "text": [
            "0.8127268351101077 0.9935736653960819\n",
            "-2.1108212377852165 4.478119928388738\n",
            "-3.0832111511590683 6.371334638905858\n",
            "-3.745148958399889 7.6693930821335865\n",
            "-4.259875721896925 8.682698706223116\n",
            "-4.687764296227815 9.527213629597501\n",
            "-5.057859402121625 10.25901518168322\n",
            "-5.386421176577151 10.909607017415594\n",
            "-5.683502775244883 11.49851849989315\n",
            "-5.955772858920762 12.038731895178797\n",
            "-6.207893934159629 12.539340214871158\n",
            "-6.44326190084875 13.006976485085097\n",
            "-6.664432415543186 13.44663928156789\n",
            "-6.873381053602277 13.862197262119395\n",
            "-7.071669536424331 14.25671197741043\n",
            "-7.260556068201113 14.632652406231408\n",
            "-7.441070965226797 14.9920421686842\n",
            "-7.614069938195663 15.336563344357053\n",
            "-7.78027253262206 15.667631440282584\n",
            "-7.940290443112651 15.986450657077903\n"
          ]
        }
      ]
    },
    {
      "cell_type": "code",
      "source": [
        "for i in range(6):\n",
        "    _tmp = sig(b + w*z[i])\n",
        "    if _tmp < 0.5: \n",
        "        y = 0\n",
        "    else:\n",
        "        y = 1\n",
        "\n",
        "    print(z[i], y)"
      ],
      "metadata": {
        "colab": {
          "base_uri": "https://localhost:8080/"
        },
        "id": "qEVX90VvTqlw",
        "outputId": "3679f7ef-17de-4d40-a51b-97befca36155"
      },
      "execution_count": null,
      "outputs": [
        {
          "output_type": "stream",
          "name": "stdout",
          "text": [
            "0.0 0\n",
            "0.2 0\n",
            "0.4 0\n",
            "0.6 1\n",
            "0.8 1\n",
            "1.0 1\n"
          ]
        }
      ]
    },
    {
      "cell_type": "markdown",
      "source": [
        "## 1 - 3. Linear Regression_TF2"
      ],
      "metadata": {
        "id": "rowwOrD-Am8R"
      }
    },
    {
      "cell_type": "code",
      "metadata": {
        "id": "YqHnP69OL_g1"
      },
      "source": [
        "import tensorflow as tf\n",
        "import numpy as np"
      ],
      "execution_count": null,
      "outputs": []
    },
    {
      "cell_type": "code",
      "metadata": {
        "id": "ahrlvKlSMBak"
      },
      "source": [
        "x = np.array([1,2,3])\n",
        "y = np.array([1,2,3])\n"
      ],
      "execution_count": null,
      "outputs": []
    },
    {
      "cell_type": "code",
      "metadata": {
        "id": "3pQRGYkZOqoI"
      },
      "source": [
        "from tensorflow.keras import layers\n",
        "\n",
        "model = tf.keras.Sequential()\n",
        "model.add(layers.Dense(1, activation='linear', input_dim=1))\n",
        "sgd = tf.keras.optimizers.SGD(0.1)\n",
        "model.compile(optimizer=sgd,loss='mse') # mse: mean squared error"
      ],
      "execution_count": null,
      "outputs": []
    },
    {
      "cell_type": "code",
      "metadata": {
        "id": "x0f006RoPaOW",
        "colab": {
          "base_uri": "https://localhost:8080/"
        },
        "outputId": "2a97afe2-7ae3-4ffb-9f21-93c02f1ab7d0"
      },
      "source": [
        "model.fit(x, y, epochs=1000, verbose = 0)"
      ],
      "execution_count": null,
      "outputs": [
        {
          "output_type": "execute_result",
          "data": {
            "text/plain": [
              "<keras.callbacks.History at 0x7fc0fc2b5570>"
            ]
          },
          "metadata": {},
          "execution_count": 29
        }
      ]
    },
    {
      "cell_type": "code",
      "metadata": {
        "id": "bJo4pVGvY5qI",
        "colab": {
          "base_uri": "https://localhost:8080/"
        },
        "outputId": "d106ef88-e531-4b1a-ebe8-d9b541a82aa1"
      },
      "source": [
        "model.get_weights()"
      ],
      "execution_count": null,
      "outputs": [
        {
          "output_type": "execute_result",
          "data": {
            "text/plain": [
              "[array([[1.]], dtype=float32), array([5.8448933e-08], dtype=float32)]"
            ]
          },
          "metadata": {},
          "execution_count": 30
        }
      ]
    },
    {
      "cell_type": "code",
      "metadata": {
        "id": "zbsxCQ-qQWVs",
        "colab": {
          "base_uri": "https://localhost:8080/"
        },
        "outputId": "31f40686-dd29-4e6b-ed4b-157b34956b33"
      },
      "source": [
        "predicted = model.predict(x)\n"
      ],
      "execution_count": null,
      "outputs": [
        {
          "output_type": "stream",
          "name": "stdout",
          "text": [
            "1/1 [==============================] - 0s 142ms/step\n"
          ]
        }
      ]
    },
    {
      "cell_type": "code",
      "metadata": {
        "id": "a2uREN0zQ0T3",
        "colab": {
          "base_uri": "https://localhost:8080/"
        },
        "outputId": "0351b210-bea6-47bd-a46c-2b7745c0bdf4"
      },
      "source": [
        "predicted"
      ],
      "execution_count": null,
      "outputs": [
        {
          "output_type": "execute_result",
          "data": {
            "text/plain": [
              "array([[1.],\n",
              "       [2.],\n",
              "       [3.]], dtype=float32)"
            ]
          },
          "metadata": {},
          "execution_count": 32
        }
      ]
    },
    {
      "cell_type": "markdown",
      "source": [
        "## 1 - 4. Logistic Regression_TF2"
      ],
      "metadata": {
        "id": "vYFZoNv-BMGO"
      }
    },
    {
      "cell_type": "code",
      "metadata": {
        "id": "-YWXtWZATP2k"
      },
      "source": [
        "import tensorflow as tf\n",
        "import numpy as np\n",
        "\n",
        "x=np.array([[1],[2],[3],[4],[5],[6]])\n",
        "y = np.array([[0],[0],[0],[1],[1],[1]])"
      ],
      "execution_count": null,
      "outputs": []
    },
    {
      "cell_type": "code",
      "source": [
        "from tensorflow.keras import layers\n",
        "model = tf.keras.Sequential()\n",
        "model.add(layers.Dense(1, activation='sigmoid', input_dim=1))\n",
        "model.compile(optimizer=tf.keras.optimizers.SGD(0.1),loss='binary_crossentropy')"
      ],
      "metadata": {
        "id": "D5pLGnVDBUUC"
      },
      "execution_count": null,
      "outputs": []
    },
    {
      "cell_type": "code",
      "metadata": {
        "colab": {
          "base_uri": "https://localhost:8080/"
        },
        "id": "9R0cdR-gTaF4",
        "outputId": "4e4ad078-3a34-43e3-92b2-12ff528468ef"
      },
      "source": [
        "model.fit(x, y, epochs=5000, verbose = 0)\n",
        "predicted = model.predict(x)\n",
        "print(predicted)"
      ],
      "execution_count": null,
      "outputs": [
        {
          "output_type": "stream",
          "name": "stdout",
          "text": [
            "1/1 [==============================] - 0s 97ms/step\n",
            "[[3.7960106e-04]\n",
            " [9.4147418e-03]\n",
            " [1.9216111e-01]\n",
            " [8.5618544e-01]\n",
            " [9.9333340e-01]\n",
            " [9.9973190e-01]]\n"
          ]
        }
      ]
    },
    {
      "cell_type": "code",
      "metadata": {
        "colab": {
          "base_uri": "https://localhost:8080/"
        },
        "id": "PHiBgDnzTqt2",
        "outputId": "3cb0572a-f54f-41e5-e572-7eb3339b5bb0"
      },
      "source": [
        "weights = model.layers[0].get_weights()[0]\n",
        "biases = model.layers[0].get_weights()[1]\n",
        "print(weights, biases)"
      ],
      "execution_count": null,
      "outputs": [
        {
          "output_type": "stream",
          "name": "stdout",
          "text": [
            "[[3.2199907]] [-11.096001]\n"
          ]
        }
      ]
    },
    {
      "cell_type": "markdown",
      "source": [
        "## 1 - 5. convexity"
      ],
      "metadata": {
        "id": "llKmMw8SAa76"
      }
    },
    {
      "cell_type": "code",
      "source": [
        "import numpy as np\n",
        "import matplotlib.pyplot as plt\n",
        "from mpl_toolkits.mplot3d import Axes3D\n",
        "\n",
        "def sig(x):\n",
        "    return 1/(1+np.exp(-x))\n",
        "\n",
        "x = np.array([1,2,3,4,5,6])\n",
        "t = np.array([0,0,0,1,1,1])\n",
        "xt = np.array([[1,0],[2,0],[3,0],[4,1],[5,1],[6,1]])\n",
        "\n",
        "n = 100\n",
        "b = np.linspace(-5, 5, n)\n",
        "w = np.linspace(-5, 5, n)\n",
        "b, w = np.meshgrid(b, w)\n",
        "cost1 = np.zeros((n, n)) # cross entropy function\n",
        "for val in xt:\n",
        "    temp = -val[1] * np.log(sig(b+w*val[0])) - (1-val[1]) * np.log(1-sig(b+w*val[0]))\n",
        "    cost1 += temp\n",
        "\n",
        "cost2 = np.zeros((n, n))\n",
        "for val in xt:\n",
        "    temp = (val[1]-sig(b+w*val[0]))**2 # error sums of squre function\n",
        "    cost2 += temp\n",
        "\n",
        "ax = plt.axes(projection='3d')\n",
        "ax.contour3D(b, w, cost1, 100, cmap='binary') # satisfies convexity, "
      ],
      "metadata": {
        "colab": {
          "base_uri": "https://localhost:8080/",
          "height": 427
        },
        "id": "ThstxGXKTqjB",
        "outputId": "1fec8bc7-d107-4396-8fe7-efc5711aab56"
      },
      "execution_count": null,
      "outputs": [
        {
          "output_type": "execute_result",
          "data": {
            "text/plain": [
              "<matplotlib.contour.QuadContourSet at 0x7fc157999450>"
            ]
          },
          "metadata": {},
          "execution_count": 25
        },
        {
          "output_type": "display_data",
          "data": {
            "text/plain": [
              "<Figure size 640x480 with 1 Axes>"
            ],
            "image/png": "[encoded data removed]"
          },
          "metadata": {}
        }
      ]
    },
    {
      "cell_type": "markdown",
      "source": [
        "# 2. MNIST Data"
      ],
      "metadata": {
        "id": "1HQ9o0v8Eqdh"
      }
    },
    {
      "cell_type": "markdown",
      "source": [
        "## 2 - 1. MNIST Data"
      ],
      "metadata": {
        "id": "spk8Nk4VFVeD"
      }
    },
    {
      "cell_type": "code",
      "metadata": {
        "id": "L8-mKSf_kCqd",
        "colab": {
          "base_uri": "https://localhost:8080/"
        },
        "outputId": "eb6fb898-35f1-45be-e0af-82a3deb1c593"
      },
      "source": [
        "# MnistData.ipynb\n",
        "\n",
        "import tensorflow as tf\n",
        "import numpy as np\n",
        "from tensorflow.keras import datasets\n",
        "\n",
        "mnist = datasets.mnist\n",
        "(train_x, train_y), (test_x, test_y) = mnist.load_data()\n",
        "print(train_x.shape)\n"
      ],
      "execution_count": null,
      "outputs": [
        {
          "output_type": "stream",
          "name": "stdout",
          "text": [
            "Downloading data from https://storage.googleapis.com/tensorflow/tf-keras-datasets/mnist.npz\n",
            "11490434/11490434 [==============================] - 0s 0us/step\n",
            "(60000, 28, 28)\n"
          ]
        }
      ]
    },
    {
      "cell_type": "code",
      "metadata": {
        "id": "C2-VlYOzh6Ly",
        "colab": {
          "base_uri": "https://localhost:8080/"
        },
        "outputId": "9eb2aaea-32a8-4f13-f72c-0a45be7075b5"
      },
      "source": [
        "print(train_x.shape, test_x.shape)\n",
        "print(train_y.shape, test_y.shape)"
      ],
      "execution_count": null,
      "outputs": [
        {
          "output_type": "stream",
          "name": "stdout",
          "text": [
            "(60000, 28, 28) (10000, 28, 28)\n",
            "(60000,) (10000,)\n"
          ]
        }
      ]
    },
    {
      "cell_type": "code",
      "metadata": {
        "id": "_SY5OzXohxaB",
        "colab": {
          "base_uri": "https://localhost:8080/",
          "height": 448
        },
        "outputId": "46963ee2-40a8-4a58-bd75-22808650f7fa"
      },
      "source": [
        "image = train_x[0]\n",
        "print(image.shape)\n",
        "import matplotlib.pyplot as plt\n",
        "plt.imshow(image, 'gray')\n",
        "plt.show()\n"
      ],
      "execution_count": null,
      "outputs": [
        {
          "output_type": "stream",
          "name": "stdout",
          "text": [
            "(28, 28)\n"
          ]
        },
        {
          "output_type": "display_data",
          "data": {
            "text/plain": [
              "<Figure size 640x480 with 1 Axes>"
            ],
            "image/png": "[encoded data removed]"
          },
          "metadata": {}
        }
      ]
    },
    {
      "cell_type": "code",
      "metadata": {
        "id": "yWhAkMLgikRx",
        "colab": {
          "base_uri": "https://localhost:8080/"
        },
        "outputId": "dae44b0b-00d6-4180-fd52-6fd4a81f4a37"
      },
      "source": [
        "print(train_y.shape)\n",
        "print(train_y[0])\n",
        "label = train_y[0]\n",
        "print(label)\n",
        "from tensorflow.keras.utils import to_categorical # one hot encoding\n",
        "print(to_categorical(label, 10) )\n"
      ],
      "execution_count": null,
      "outputs": [
        {
          "output_type": "stream",
          "name": "stdout",
          "text": [
            "(60000,)\n",
            "5\n",
            "5\n",
            "[0. 0. 0. 0. 0. 1. 0. 0. 0. 0.]\n"
          ]
        }
      ]
    },
    {
      "cell_type": "markdown",
      "source": [
        "## 2 - 2. MNIST softmax_TF2"
      ],
      "metadata": {
        "id": "DiEB7SKAFYKl"
      }
    },
    {
      "cell_type": "code",
      "metadata": {
        "id": "RVvvGuyOFecP"
      },
      "source": [
        "import tensorflow as tf\n",
        "import numpy as np"
      ],
      "execution_count": null,
      "outputs": []
    },
    {
      "cell_type": "code",
      "metadata": {
        "id": "OW7bD_j9Fecc"
      },
      "source": [
        "from tensorflow.keras import datasets\n",
        "from tensorflow.keras.utils import to_categorical\n",
        "mnist = datasets.mnist\n",
        "(train_x, train_y), (test_x, test_y) = mnist.load_data()"
      ],
      "execution_count": null,
      "outputs": []
    },
    {
      "cell_type": "code",
      "metadata": {
        "id": "qiBUNvqdYtx8",
        "colab": {
          "base_uri": "https://localhost:8080/"
        },
        "outputId": "fda1a3cf-c03c-47f8-dd29-04b4d9a54fc3"
      },
      "source": [
        "print(train_x.shape)\n",
        "np.max(train_x[0]), np.min(train_x[0])"
      ],
      "execution_count": null,
      "outputs": [
        {
          "output_type": "stream",
          "name": "stdout",
          "text": [
            "(60000, 28, 28)\n"
          ]
        },
        {
          "output_type": "execute_result",
          "data": {
            "text/plain": [
              "(255, 0)"
            ]
          },
          "metadata": {},
          "execution_count": 42
        }
      ]
    },
    {
      "cell_type": "code",
      "metadata": {
        "id": "vJPesGRheGXD",
        "colab": {
          "base_uri": "https://localhost:8080/"
        },
        "outputId": "be173c86-06b4-4272-8e6e-f243e7874a25"
      },
      "source": [
        "train_x[0]"
      ],
      "execution_count": null,
      "outputs": [
        {
          "output_type": "execute_result",
          "data": {
            "text/plain": [
              "array([[  0,   0,   0,   0,   0,   0,   0,   0,   0,   0,   0,   0,   0,\n",
              "          0,   0,   0,   0,   0,   0,   0,   0,   0,   0,   0,   0,   0,\n",
              "          0,   0],\n",
              "       [  0,   0,   0,   0,   0,   0,   0,   0,   0,   0,   0,   0,   0,\n",
              "          0,   0,   0,   0,   0,   0,   0,   0,   0,   0,   0,   0,   0,\n",
              "          0,   0],\n",
              "       [  0,   0,   0,   0,   0,   0,   0,   0,   0,   0,   0,   0,   0,\n",
              "          0,   0,   0,   0,   0,   0,   0,   0,   0,   0,   0,   0,   0,\n",
              "          0,   0],\n",
              "       [  0,   0,   0,   0,   0,   0,   0,   0,   0,   0,   0,   0,   0,\n",
              "          0,   0,   0,   0,   0,   0,   0,   0,   0,   0,   0,   0,   0,\n",
              "          0,   0],\n",
              "       [  0,   0,   0,   0,   0,   0,   0,   0,   0,   0,   0,   0,   0,\n",
              "          0,   0,   0,   0,   0,   0,   0,   0,   0,   0,   0,   0,   0,\n",
              "          0,   0],\n",
              "       [  0,   0,   0,   0,   0,   0,   0,   0,   0,   0,   0,   0,   3,\n",
              "         18,  18,  18, 126, 136, 175,  26, 166, 255, 247, 127,   0,   0,\n",
              "          0,   0],\n",
              "       [  0,   0,   0,   0,   0,   0,   0,   0,  30,  36,  94, 154, 170,\n",
              "        253, 253, 253, 253, 253, 225, 172, 253, 242, 195,  64,   0,   0,\n",
              "          0,   0],\n",
              "       [  0,   0,   0,   0,   0,   0,   0,  49, 238, 253, 253, 253, 253,\n",
              "        253, 253, 253, 253, 251,  93,  82,  82,  56,  39,   0,   0,   0,\n",
              "          0,   0],\n",
              "       [  0,   0,   0,   0,   0,   0,   0,  18, 219, 253, 253, 253, 253,\n",
              "        253, 198, 182, 247, 241,   0,   0,   0,   0,   0,   0,   0,   0,\n",
              "          0,   0],\n",
              "       [  0,   0,   0,   0,   0,   0,   0,   0,  80, 156, 107, 253, 253,\n",
              "        205,  11,   0,  43, 154,   0,   0,   0,   0,   0,   0,   0,   0,\n",
              "          0,   0],\n",
              "       [  0,   0,   0,   0,   0,   0,   0,   0,   0,  14,   1, 154, 253,\n",
              "         90,   0,   0,   0,   0,   0,   0,   0,   0,   0,   0,   0,   0,\n",
              "          0,   0],\n",
              "       [  0,   0,   0,   0,   0,   0,   0,   0,   0,   0,   0, 139, 253,\n",
              "        190,   2,   0,   0,   0,   0,   0,   0,   0,   0,   0,   0,   0,\n",
              "          0,   0],\n",
              "       [  0,   0,   0,   0,   0,   0,   0,   0,   0,   0,   0,  11, 190,\n",
              "        253,  70,   0,   0,   0,   0,   0,   0,   0,   0,   0,   0,   0,\n",
              "          0,   0],\n",
              "       [  0,   0,   0,   0,   0,   0,   0,   0,   0,   0,   0,   0,  35,\n",
              "        241, 225, 160, 108,   1,   0,   0,   0,   0,   0,   0,   0,   0,\n",
              "          0,   0],\n",
              "       [  0,   0,   0,   0,   0,   0,   0,   0,   0,   0,   0,   0,   0,\n",
              "         81, 240, 253, 253, 119,  25,   0,   0,   0,   0,   0,   0,   0,\n",
              "          0,   0],\n",
              "       [  0,   0,   0,   0,   0,   0,   0,   0,   0,   0,   0,   0,   0,\n",
              "          0,  45, 186, 253, 253, 150,  27,   0,   0,   0,   0,   0,   0,\n",
              "          0,   0],\n",
              "       [  0,   0,   0,   0,   0,   0,   0,   0,   0,   0,   0,   0,   0,\n",
              "          0,   0,  16,  93, 252, 253, 187,   0,   0,   0,   0,   0,   0,\n",
              "          0,   0],\n",
              "       [  0,   0,   0,   0,   0,   0,   0,   0,   0,   0,   0,   0,   0,\n",
              "          0,   0,   0,   0, 249, 253, 249,  64,   0,   0,   0,   0,   0,\n",
              "          0,   0],\n",
              "       [  0,   0,   0,   0,   0,   0,   0,   0,   0,   0,   0,   0,   0,\n",
              "          0,  46, 130, 183, 253, 253, 207,   2,   0,   0,   0,   0,   0,\n",
              "          0,   0],\n",
              "       [  0,   0,   0,   0,   0,   0,   0,   0,   0,   0,   0,   0,  39,\n",
              "        148, 229, 253, 253, 253, 250, 182,   0,   0,   0,   0,   0,   0,\n",
              "          0,   0],\n",
              "       [  0,   0,   0,   0,   0,   0,   0,   0,   0,   0,  24, 114, 221,\n",
              "        253, 253, 253, 253, 201,  78,   0,   0,   0,   0,   0,   0,   0,\n",
              "          0,   0],\n",
              "       [  0,   0,   0,   0,   0,   0,   0,   0,  23,  66, 213, 253, 253,\n",
              "        253, 253, 198,  81,   2,   0,   0,   0,   0,   0,   0,   0,   0,\n",
              "          0,   0],\n",
              "       [  0,   0,   0,   0,   0,   0,  18, 171, 219, 253, 253, 253, 253,\n",
              "        195,  80,   9,   0,   0,   0,   0,   0,   0,   0,   0,   0,   0,\n",
              "          0,   0],\n",
              "       [  0,   0,   0,   0,  55, 172, 226, 253, 253, 253, 253, 244, 133,\n",
              "         11,   0,   0,   0,   0,   0,   0,   0,   0,   0,   0,   0,   0,\n",
              "          0,   0],\n",
              "       [  0,   0,   0,   0, 136, 253, 253, 253, 212, 135, 132,  16,   0,\n",
              "          0,   0,   0,   0,   0,   0,   0,   0,   0,   0,   0,   0,   0,\n",
              "          0,   0],\n",
              "       [  0,   0,   0,   0,   0,   0,   0,   0,   0,   0,   0,   0,   0,\n",
              "          0,   0,   0,   0,   0,   0,   0,   0,   0,   0,   0,   0,   0,\n",
              "          0,   0],\n",
              "       [  0,   0,   0,   0,   0,   0,   0,   0,   0,   0,   0,   0,   0,\n",
              "          0,   0,   0,   0,   0,   0,   0,   0,   0,   0,   0,   0,   0,\n",
              "          0,   0],\n",
              "       [  0,   0,   0,   0,   0,   0,   0,   0,   0,   0,   0,   0,   0,\n",
              "          0,   0,   0,   0,   0,   0,   0,   0,   0,   0,   0,   0,   0,\n",
              "          0,   0]], dtype=uint8)"
            ]
          },
          "metadata": {},
          "execution_count": 43
        }
      ]
    },
    {
      "cell_type": "code",
      "metadata": {
        "id": "pufXO_CgZHa3"
      },
      "source": [
        "train_x = train_x.reshape(-1,784) \n",
        "test_x = test_x.reshape(-1,784) \n"
      ],
      "execution_count": null,
      "outputs": []
    },
    {
      "cell_type": "code",
      "metadata": {
        "id": "qWwKn8GPibUJ",
        "colab": {
          "base_uri": "https://localhost:8080/"
        },
        "outputId": "d97e4c11-27c9-4c48-ca2a-84d8a1e0c1b7"
      },
      "source": [
        "train_x.shape, test_x.shape"
      ],
      "execution_count": null,
      "outputs": [
        {
          "output_type": "execute_result",
          "data": {
            "text/plain": [
              "((60000, 784), (10000, 784))"
            ]
          },
          "metadata": {},
          "execution_count": 45
        }
      ]
    },
    {
      "cell_type": "code",
      "metadata": {
        "id": "I-EBAKzAaHYy"
      },
      "source": [
        "train_x = train_x / 255 # 표준화\n",
        "test_x = test_x / 255"
      ],
      "execution_count": null,
      "outputs": []
    },
    {
      "cell_type": "code",
      "metadata": {
        "id": "DIV05-AhmbSH",
        "colab": {
          "base_uri": "https://localhost:8080/"
        },
        "outputId": "6d02ce45-b522-4cec-d441-bd06df3d6959"
      },
      "source": [
        "train_x[0]"
      ],
      "execution_count": null,
      "outputs": [
        {
          "output_type": "execute_result",
          "data": {
            "text/plain": [
              "array([0.        , 0.        , 0.        , 0.        , 0.        ,\n",
              "       0.        , 0.        , 0.        , 0.        , 0.        ,\n",
              "       0.        , 0.        , 0.        , 0.        , 0.        ,\n",
              "       0.        , 0.        , 0.        , 0.        , 0.        ,\n",
              "       0.        , 0.        , 0.        , 0.        , 0.        ,\n",
              "       0.        , 0.        , 0.        , 0.        , 0.        ,\n",
              "       0.        , 0.        , 0.        , 0.        , 0.        ,\n",
              "       0.        , 0.        , 0.        , 0.        , 0.        ,\n",
              "       0.        , 0.        , 0.        , 0.        , 0.        ,\n",
              "       0.        , 0.        , 0.        , 0.        , 0.        ,\n",
              "       0.        , 0.        , 0.        , 0.        , 0.        ,\n",
              "       0.        , 0.        , 0.        , 0.        , 0.        ,\n",
              "       0.        , 0.        , 0.        , 0.        , 0.        ,\n",
              "       0.        , 0.        , 0.        , 0.        , 0.        ,\n",
              "       0.        , 0.        , 0.        , 0.        , 0.        ,\n",
              "       0.        , 0.        , 0.        , 0.        , 0.        ,\n",
              "       0.        , 0.        , 0.        , 0.        , 0.        ,\n",
              "       0.        , 0.        , 0.        , 0.        , 0.        ,\n",
              "       0.        , 0.        , 0.        , 0.        , 0.        ,\n",
              "       0.        , 0.        , 0.        , 0.        , 0.        ,\n",
              "       0.        , 0.        , 0.        , 0.        , 0.        ,\n",
              "       0.        , 0.        , 0.        , 0.        , 0.        ,\n",
              "       0.        , 0.        , 0.        , 0.        , 0.        ,\n",
              "       0.        , 0.        , 0.        , 0.        , 0.        ,\n",
              "       0.        , 0.        , 0.        , 0.        , 0.        ,\n",
              "       0.        , 0.        , 0.        , 0.        , 0.        ,\n",
              "       0.        , 0.        , 0.        , 0.        , 0.        ,\n",
              "       0.        , 0.        , 0.        , 0.        , 0.        ,\n",
              "       0.        , 0.        , 0.        , 0.        , 0.        ,\n",
              "       0.        , 0.        , 0.        , 0.        , 0.        ,\n",
              "       0.        , 0.        , 0.01176471, 0.07058824, 0.07058824,\n",
              "       0.07058824, 0.49411765, 0.53333333, 0.68627451, 0.10196078,\n",
              "       0.65098039, 1.        , 0.96862745, 0.49803922, 0.        ,\n",
              "       0.        , 0.        , 0.        , 0.        , 0.        ,\n",
              "       0.        , 0.        , 0.        , 0.        , 0.        ,\n",
              "       0.        , 0.11764706, 0.14117647, 0.36862745, 0.60392157,\n",
              "       0.66666667, 0.99215686, 0.99215686, 0.99215686, 0.99215686,\n",
              "       0.99215686, 0.88235294, 0.6745098 , 0.99215686, 0.94901961,\n",
              "       0.76470588, 0.25098039, 0.        , 0.        , 0.        ,\n",
              "       0.        , 0.        , 0.        , 0.        , 0.        ,\n",
              "       0.        , 0.        , 0.        , 0.19215686, 0.93333333,\n",
              "       0.99215686, 0.99215686, 0.99215686, 0.99215686, 0.99215686,\n",
              "       0.99215686, 0.99215686, 0.99215686, 0.98431373, 0.36470588,\n",
              "       0.32156863, 0.32156863, 0.21960784, 0.15294118, 0.        ,\n",
              "       0.        , 0.        , 0.        , 0.        , 0.        ,\n",
              "       0.        , 0.        , 0.        , 0.        , 0.        ,\n",
              "       0.        , 0.07058824, 0.85882353, 0.99215686, 0.99215686,\n",
              "       0.99215686, 0.99215686, 0.99215686, 0.77647059, 0.71372549,\n",
              "       0.96862745, 0.94509804, 0.        , 0.        , 0.        ,\n",
              "       0.        , 0.        , 0.        , 0.        , 0.        ,\n",
              "       0.        , 0.        , 0.        , 0.        , 0.        ,\n",
              "       0.        , 0.        , 0.        , 0.        , 0.        ,\n",
              "       0.31372549, 0.61176471, 0.41960784, 0.99215686, 0.99215686,\n",
              "       0.80392157, 0.04313725, 0.        , 0.16862745, 0.60392157,\n",
              "       0.        , 0.        , 0.        , 0.        , 0.        ,\n",
              "       0.        , 0.        , 0.        , 0.        , 0.        ,\n",
              "       0.        , 0.        , 0.        , 0.        , 0.        ,\n",
              "       0.        , 0.        , 0.        , 0.        , 0.05490196,\n",
              "       0.00392157, 0.60392157, 0.99215686, 0.35294118, 0.        ,\n",
              "       0.        , 0.        , 0.        , 0.        , 0.        ,\n",
              "       0.        , 0.        , 0.        , 0.        , 0.        ,\n",
              "       0.        , 0.        , 0.        , 0.        , 0.        ,\n",
              "       0.        , 0.        , 0.        , 0.        , 0.        ,\n",
              "       0.        , 0.        , 0.        , 0.        , 0.54509804,\n",
              "       0.99215686, 0.74509804, 0.00784314, 0.        , 0.        ,\n",
              "       0.        , 0.        , 0.        , 0.        , 0.        ,\n",
              "       0.        , 0.        , 0.        , 0.        , 0.        ,\n",
              "       0.        , 0.        , 0.        , 0.        , 0.        ,\n",
              "       0.        , 0.        , 0.        , 0.        , 0.        ,\n",
              "       0.        , 0.        , 0.04313725, 0.74509804, 0.99215686,\n",
              "       0.2745098 , 0.        , 0.        , 0.        , 0.        ,\n",
              "       0.        , 0.        , 0.        , 0.        , 0.        ,\n",
              "       0.        , 0.        , 0.        , 0.        , 0.        ,\n",
              "       0.        , 0.        , 0.        , 0.        , 0.        ,\n",
              "       0.        , 0.        , 0.        , 0.        , 0.        ,\n",
              "       0.        , 0.1372549 , 0.94509804, 0.88235294, 0.62745098,\n",
              "       0.42352941, 0.00392157, 0.        , 0.        , 0.        ,\n",
              "       0.        , 0.        , 0.        , 0.        , 0.        ,\n",
              "       0.        , 0.        , 0.        , 0.        , 0.        ,\n",
              "       0.        , 0.        , 0.        , 0.        , 0.        ,\n",
              "       0.        , 0.        , 0.        , 0.        , 0.        ,\n",
              "       0.31764706, 0.94117647, 0.99215686, 0.99215686, 0.46666667,\n",
              "       0.09803922, 0.        , 0.        , 0.        , 0.        ,\n",
              "       0.        , 0.        , 0.        , 0.        , 0.        ,\n",
              "       0.        , 0.        , 0.        , 0.        , 0.        ,\n",
              "       0.        , 0.        , 0.        , 0.        , 0.        ,\n",
              "       0.        , 0.        , 0.        , 0.        , 0.17647059,\n",
              "       0.72941176, 0.99215686, 0.99215686, 0.58823529, 0.10588235,\n",
              "       0.        , 0.        , 0.        , 0.        , 0.        ,\n",
              "       0.        , 0.        , 0.        , 0.        , 0.        ,\n",
              "       0.        , 0.        , 0.        , 0.        , 0.        ,\n",
              "       0.        , 0.        , 0.        , 0.        , 0.        ,\n",
              "       0.        , 0.        , 0.        , 0.0627451 , 0.36470588,\n",
              "       0.98823529, 0.99215686, 0.73333333, 0.        , 0.        ,\n",
              "       0.        , 0.        , 0.        , 0.        , 0.        ,\n",
              "       0.        , 0.        , 0.        , 0.        , 0.        ,\n",
              "       0.        , 0.        , 0.        , 0.        , 0.        ,\n",
              "       0.        , 0.        , 0.        , 0.        , 0.        ,\n",
              "       0.        , 0.        , 0.        , 0.97647059, 0.99215686,\n",
              "       0.97647059, 0.25098039, 0.        , 0.        , 0.        ,\n",
              "       0.        , 0.        , 0.        , 0.        , 0.        ,\n",
              "       0.        , 0.        , 0.        , 0.        , 0.        ,\n",
              "       0.        , 0.        , 0.        , 0.        , 0.        ,\n",
              "       0.        , 0.        , 0.        , 0.18039216, 0.50980392,\n",
              "       0.71764706, 0.99215686, 0.99215686, 0.81176471, 0.00784314,\n",
              "       0.        , 0.        , 0.        , 0.        , 0.        ,\n",
              "       0.        , 0.        , 0.        , 0.        , 0.        ,\n",
              "       0.        , 0.        , 0.        , 0.        , 0.        ,\n",
              "       0.        , 0.        , 0.        , 0.        , 0.15294118,\n",
              "       0.58039216, 0.89803922, 0.99215686, 0.99215686, 0.99215686,\n",
              "       0.98039216, 0.71372549, 0.        , 0.        , 0.        ,\n",
              "       0.        , 0.        , 0.        , 0.        , 0.        ,\n",
              "       0.        , 0.        , 0.        , 0.        , 0.        ,\n",
              "       0.        , 0.        , 0.        , 0.        , 0.        ,\n",
              "       0.09411765, 0.44705882, 0.86666667, 0.99215686, 0.99215686,\n",
              "       0.99215686, 0.99215686, 0.78823529, 0.30588235, 0.        ,\n",
              "       0.        , 0.        , 0.        , 0.        , 0.        ,\n",
              "       0.        , 0.        , 0.        , 0.        , 0.        ,\n",
              "       0.        , 0.        , 0.        , 0.        , 0.        ,\n",
              "       0.        , 0.09019608, 0.25882353, 0.83529412, 0.99215686,\n",
              "       0.99215686, 0.99215686, 0.99215686, 0.77647059, 0.31764706,\n",
              "       0.00784314, 0.        , 0.        , 0.        , 0.        ,\n",
              "       0.        , 0.        , 0.        , 0.        , 0.        ,\n",
              "       0.        , 0.        , 0.        , 0.        , 0.        ,\n",
              "       0.        , 0.        , 0.07058824, 0.67058824, 0.85882353,\n",
              "       0.99215686, 0.99215686, 0.99215686, 0.99215686, 0.76470588,\n",
              "       0.31372549, 0.03529412, 0.        , 0.        , 0.        ,\n",
              "       0.        , 0.        , 0.        , 0.        , 0.        ,\n",
              "       0.        , 0.        , 0.        , 0.        , 0.        ,\n",
              "       0.        , 0.        , 0.        , 0.21568627, 0.6745098 ,\n",
              "       0.88627451, 0.99215686, 0.99215686, 0.99215686, 0.99215686,\n",
              "       0.95686275, 0.52156863, 0.04313725, 0.        , 0.        ,\n",
              "       0.        , 0.        , 0.        , 0.        , 0.        ,\n",
              "       0.        , 0.        , 0.        , 0.        , 0.        ,\n",
              "       0.        , 0.        , 0.        , 0.        , 0.        ,\n",
              "       0.        , 0.53333333, 0.99215686, 0.99215686, 0.99215686,\n",
              "       0.83137255, 0.52941176, 0.51764706, 0.0627451 , 0.        ,\n",
              "       0.        , 0.        , 0.        , 0.        , 0.        ,\n",
              "       0.        , 0.        , 0.        , 0.        , 0.        ,\n",
              "       0.        , 0.        , 0.        , 0.        , 0.        ,\n",
              "       0.        , 0.        , 0.        , 0.        , 0.        ,\n",
              "       0.        , 0.        , 0.        , 0.        , 0.        ,\n",
              "       0.        , 0.        , 0.        , 0.        , 0.        ,\n",
              "       0.        , 0.        , 0.        , 0.        , 0.        ,\n",
              "       0.        , 0.        , 0.        , 0.        , 0.        ,\n",
              "       0.        , 0.        , 0.        , 0.        , 0.        ,\n",
              "       0.        , 0.        , 0.        , 0.        , 0.        ,\n",
              "       0.        , 0.        , 0.        , 0.        , 0.        ,\n",
              "       0.        , 0.        , 0.        , 0.        , 0.        ,\n",
              "       0.        , 0.        , 0.        , 0.        , 0.        ,\n",
              "       0.        , 0.        , 0.        , 0.        , 0.        ,\n",
              "       0.        , 0.        , 0.        , 0.        , 0.        ,\n",
              "       0.        , 0.        , 0.        , 0.        , 0.        ,\n",
              "       0.        , 0.        , 0.        , 0.        , 0.        ,\n",
              "       0.        , 0.        , 0.        , 0.        , 0.        ,\n",
              "       0.        , 0.        , 0.        , 0.        , 0.        ,\n",
              "       0.        , 0.        , 0.        , 0.        ])"
            ]
          },
          "metadata": {},
          "execution_count": 47
        }
      ]
    },
    {
      "cell_type": "code",
      "metadata": {
        "id": "FxWgiyN7aVHt",
        "colab": {
          "base_uri": "https://localhost:8080/"
        },
        "outputId": "7e6b6cd6-50d4-4723-cb59-3eb838f23e91"
      },
      "source": [
        "np.min(train_x[0]), np.max(train_x[0])"
      ],
      "execution_count": null,
      "outputs": [
        {
          "output_type": "execute_result",
          "data": {
            "text/plain": [
              "(0.0, 1.0)"
            ]
          },
          "metadata": {},
          "execution_count": 48
        }
      ]
    },
    {
      "cell_type": "code",
      "metadata": {
        "id": "rlcgC6nKZnfI",
        "colab": {
          "base_uri": "https://localhost:8080/"
        },
        "outputId": "8e3c0b4e-37ce-44d5-8b13-491dbb6ff178"
      },
      "source": [
        "print(train_y[0])"
      ],
      "execution_count": null,
      "outputs": [
        {
          "output_type": "stream",
          "name": "stdout",
          "text": [
            "5\n"
          ]
        }
      ]
    },
    {
      "cell_type": "code",
      "metadata": {
        "id": "XwHRCkozZtYs",
        "colab": {
          "base_uri": "https://localhost:8080/"
        },
        "outputId": "c0a2e5b3-af4c-4c89-e5da-55f28fdb5635"
      },
      "source": [
        "train_y_onehot = to_categorical(train_y) # one hot encoding\n",
        "test_y_onehot = to_categorical(test_y)\n",
        "train_y_onehot[0]"
      ],
      "execution_count": null,
      "outputs": [
        {
          "output_type": "execute_result",
          "data": {
            "text/plain": [
              "array([0., 0., 0., 0., 0., 1., 0., 0., 0., 0.], dtype=float32)"
            ]
          },
          "metadata": {},
          "execution_count": 50
        }
      ]
    },
    {
      "cell_type": "code",
      "metadata": {
        "id": "zgDhmwGIFecf"
      },
      "source": [
        "from tensorflow.keras import layers\n",
        "\n",
        "model = tf.keras.Sequential()\n",
        "model.add(layers.Dense(10, activation='softmax', input_dim=784))\n",
        "model.compile(optimizer='sgd',loss='categorical_crossentropy',metrics=['accuracy'])"
      ],
      "execution_count": null,
      "outputs": []
    },
    {
      "cell_type": "code",
      "metadata": {
        "colab": {
          "base_uri": "https://localhost:8080/"
        },
        "outputId": "0d7f19ba-25fa-4198-b261-719f070abf41",
        "id": "6OzdXgl1Fecf"
      },
      "source": [
        "model.fit(train_x, train_y_onehot, validation_data=(test_x, test_y_onehot), batch_size = 100, epochs=5)"
      ],
      "execution_count": null,
      "outputs": [
        {
          "output_type": "stream",
          "name": "stdout",
          "text": [
            "Epoch 1/5\n",
            "600/600 [==============================] - 3s 4ms/step - loss: 1.1700 - accuracy: 0.7314 - val_loss: 0.7234 - val_accuracy: 0.8500\n",
            "Epoch 2/5\n",
            "600/600 [==============================] - 1s 2ms/step - loss: 0.6456 - accuracy: 0.8533 - val_loss: 0.5521 - val_accuracy: 0.8720\n",
            "Epoch 3/5\n",
            "600/600 [==============================] - 1s 2ms/step - loss: 0.5379 - accuracy: 0.8673 - val_loss: 0.4842 - val_accuracy: 0.8839\n",
            "Epoch 4/5\n",
            "600/600 [==============================] - 1s 2ms/step - loss: 0.4864 - accuracy: 0.8756 - val_loss: 0.4462 - val_accuracy: 0.8884\n",
            "Epoch 5/5\n",
            "600/600 [==============================] - 1s 2ms/step - loss: 0.4548 - accuracy: 0.8816 - val_loss: 0.4210 - val_accuracy: 0.8918\n"
          ]
        },
        {
          "output_type": "execute_result",
          "data": {
            "text/plain": [
              "<keras.callbacks.History at 0x7fc0f45ddba0>"
            ]
          },
          "metadata": {},
          "execution_count": 52
        }
      ]
    },
    {
      "cell_type": "code",
      "metadata": {
        "id": "mYiXPGutbiE9",
        "colab": {
          "base_uri": "https://localhost:8080/"
        },
        "outputId": "ebc9f03a-d50f-4622-ceed-cd5879299d1b"
      },
      "source": [
        "model.evaluate(train_x, train_y_onehot)"
      ],
      "execution_count": null,
      "outputs": [
        {
          "output_type": "stream",
          "name": "stdout",
          "text": [
            "1875/1875 [==============================] - 3s 2ms/step - loss: 0.4422 - accuracy: 0.8842\n"
          ]
        },
        {
          "output_type": "execute_result",
          "data": {
            "text/plain": [
              "[0.4421650171279907, 0.8841666579246521]"
            ]
          },
          "metadata": {},
          "execution_count": 53
        }
      ]
    },
    {
      "cell_type": "code",
      "metadata": {
        "id": "UuVi2LV3Rgln",
        "colab": {
          "base_uri": "https://localhost:8080/"
        },
        "outputId": "e076eea5-fd69-4b81-f366-1fb16f6025d3"
      },
      "source": [
        "model.evaluate(test_x, test_y_onehot)"
      ],
      "execution_count": null,
      "outputs": [
        {
          "output_type": "stream",
          "name": "stdout",
          "text": [
            "313/313 [==============================] - 1s 2ms/step - loss: 0.4211 - accuracy: 0.8912\n"
          ]
        },
        {
          "output_type": "execute_result",
          "data": {
            "text/plain": [
              "[0.4211061894893646, 0.8912000060081482]"
            ]
          },
          "metadata": {},
          "execution_count": 15
        }
      ]
    },
    {
      "cell_type": "code",
      "metadata": {
        "id": "iRqnuMlTFecg"
      },
      "source": [
        "predicted = model.predict(test_x)"
      ],
      "execution_count": null,
      "outputs": []
    },
    {
      "cell_type": "code",
      "metadata": {
        "colab": {
          "base_uri": "https://localhost:8080/"
        },
        "outputId": "70ee36b7-73e2-4419-8a86-c31c6d9a7b6d",
        "id": "ZYBwZeseFecg"
      },
      "source": [
        "predicted[0], test_y_onehot[0]"
      ],
      "execution_count": null,
      "outputs": [
        {
          "output_type": "execute_result",
          "data": {
            "text/plain": [
              "(array([9.9963066e-04, 3.1817297e-05, 7.3262327e-04, 3.4996930e-03,\n",
              "        8.4053725e-04, 4.7689257e-04, 3.9652517e-05, 9.7920108e-01,\n",
              "        7.2067644e-04, 1.3457506e-02], dtype=float32),\n",
              " array([0., 0., 0., 0., 0., 0., 0., 1., 0., 0.], dtype=float32))"
            ]
          },
          "metadata": {},
          "execution_count": 17
        }
      ]
    },
    {
      "cell_type": "code",
      "source": [],
      "metadata": {
        "id": "-ByqoLUuXFkK"
      },
      "execution_count": null,
      "outputs": []
    },
    {
      "cell_type": "code",
      "source": [
        "answer = []"
      ],
      "metadata": {
        "id": "km0vd42IGKIp"
      },
      "execution_count": null,
      "outputs": []
    },
    {
      "cell_type": "code",
      "source": [
        "x = 0 * (-0.16) + 0 * 0.44 + 1 * (-0.99)\n",
        "x"
      ],
      "metadata": {
        "colab": {
          "base_uri": "https://localhost:8080/"
        },
        "id": "95N2LaHaGKBO",
        "outputId": "533ddf6e-b9e0-4f1e-d3fb-e261409fc9e1"
      },
      "execution_count": null,
      "outputs": [
        {
          "output_type": "execute_result",
          "data": {
            "text/plain": [
              "-0.99"
            ]
          },
          "metadata": {},
          "execution_count": 102
        }
      ]
    },
    {
      "cell_type": "code",
      "source": [
        "answer1 = sig(x)\n",
        "print(answer1)\n",
        "answer.append(answer1)"
      ],
      "metadata": {
        "colab": {
          "base_uri": "https://localhost:8080/"
        },
        "id": "3oFR4V1vGJ5v",
        "outputId": "30aaf251-19ba-48b6-eba1-117acf1ca852"
      },
      "execution_count": null,
      "outputs": [
        {
          "output_type": "stream",
          "name": "stdout",
          "text": [
            "0.27091207765069353\n"
          ]
        }
      ]
    },
    {
      "cell_type": "code",
      "source": [
        "x = 0 * (-0.16) + 1 * 0.44 + 1 * (-0.99)\n",
        "x"
      ],
      "metadata": {
        "colab": {
          "base_uri": "https://localhost:8080/"
        },
        "id": "QL4w19t8GJyN",
        "outputId": "234ee40e-8581-405b-cb81-60a6e1dcbda1"
      },
      "execution_count": null,
      "outputs": [
        {
          "output_type": "execute_result",
          "data": {
            "text/plain": [
              "-0.55"
            ]
          },
          "metadata": {},
          "execution_count": 104
        }
      ]
    },
    {
      "cell_type": "code",
      "source": [
        "answer2 = sig(x)\n",
        "print(answer2)\n",
        "answer.append(answer2)"
      ],
      "metadata": {
        "colab": {
          "base_uri": "https://localhost:8080/"
        },
        "id": "xMLMLpgYGJq4",
        "outputId": "bedc92b9-25dc-4e36-a403-51505004487b"
      },
      "execution_count": null,
      "outputs": [
        {
          "output_type": "stream",
          "name": "stdout",
          "text": [
            "0.36586440898919936\n"
          ]
        }
      ]
    },
    {
      "cell_type": "code",
      "source": [
        "x = 1 * (-0.16) + 0 * 0.44 + 1 * (-0.99)\n",
        "x"
      ],
      "metadata": {
        "colab": {
          "base_uri": "https://localhost:8080/"
        },
        "id": "6W_HhkTyGJjm",
        "outputId": "0be05594-6ef5-4c74-af1a-2701b83148ab"
      },
      "execution_count": null,
      "outputs": [
        {
          "output_type": "execute_result",
          "data": {
            "text/plain": [
              "-1.15"
            ]
          },
          "metadata": {},
          "execution_count": 106
        }
      ]
    },
    {
      "cell_type": "code",
      "source": [
        "answer3 = sig(x)\n",
        "print(answer3)\n",
        "answer.append(answer3)"
      ],
      "metadata": {
        "colab": {
          "base_uri": "https://localhost:8080/"
        },
        "id": "Z05cWtHLGJcQ",
        "outputId": "7831a616-aacb-40d3-fd38-398c20d8343d"
      },
      "execution_count": null,
      "outputs": [
        {
          "output_type": "stream",
          "name": "stdout",
          "text": [
            "0.24048908305088898\n"
          ]
        }
      ]
    },
    {
      "cell_type": "code",
      "source": [
        "x = 1 * (-0.16) + 1 * 0.44 + 1 * (-0.99)\n",
        "x"
      ],
      "metadata": {
        "colab": {
          "base_uri": "https://localhost:8080/"
        },
        "id": "pIc4VXcQGJU4",
        "outputId": "232b149c-8c0e-428d-b529-c673b5a0b27c"
      },
      "execution_count": null,
      "outputs": [
        {
          "output_type": "execute_result",
          "data": {
            "text/plain": [
              "-0.71"
            ]
          },
          "metadata": {},
          "execution_count": 108
        }
      ]
    },
    {
      "cell_type": "code",
      "source": [
        "answer4 = sig(x)\n",
        "print(answer4)\n",
        "answer.append(answer4)"
      ],
      "metadata": {
        "colab": {
          "base_uri": "https://localhost:8080/"
        },
        "id": "KTwaif4bVS1L",
        "outputId": "5d494a34-83b2-4d54-943b-8afa74327fbc"
      },
      "execution_count": null,
      "outputs": [
        {
          "output_type": "stream",
          "name": "stdout",
          "text": [
            "0.3295988401911314\n"
          ]
        }
      ]
    },
    {
      "cell_type": "code",
      "source": [
        "for i in range(4):\n",
        "    if answer[i] < 0.5:\n",
        "        print(f'answer{i} = 0')\n",
        "    else:\n",
        "        print(f'answer{i} = 1')"
      ],
      "metadata": {
        "colab": {
          "base_uri": "https://localhost:8080/"
        },
        "id": "rkfe2FVlVSeQ",
        "outputId": "f2a6c571-41b1-40e2-cdc3-114b542840eb"
      },
      "execution_count": null,
      "outputs": [
        {
          "output_type": "stream",
          "name": "stdout",
          "text": [
            "answer0 = 0\n",
            "answer1 = 0\n",
            "answer2 = 0\n",
            "answer3 = 0\n"
          ]
        }
      ]
    },
    {
      "cell_type": "markdown",
      "source": [
        "# 3. perceptron"
      ],
      "metadata": {
        "id": "uXFJQYWqa9TW"
      }
    },
    {
      "cell_type": "code",
      "metadata": {
        "colab": {
          "base_uri": "https://localhost:8080/"
        },
        "id": "NJ6P2PbcnSfk",
        "outputId": "9d5d6db5-d311-444d-a212-b56a704c7591"
      },
      "source": [
        "def f(x):\n",
        "    if x > 0:\n",
        "        return 1\n",
        "    else:\n",
        "        return 0\n",
        "\n",
        "import numpy as np\n",
        "x = np.array([[1,0,0], [1,0,1], [1,1,0], [1,1,1]])\n",
        "t = np.array([0,0,0,1]) # AND\n",
        "#t = np.array([0,1,1,1]) # OR\n",
        "eta = 0.1\n",
        "w = np.array([0.,0.,0.])\n",
        "\n",
        "for iter in range(10):\n",
        "    for i in range(len(x)): # 4가지 경우에 대해 루프\n",
        "        fnet = f(np.dot(x[i], w)) \n",
        "        e = t[i] - fnet\n",
        "        w[0] = w[0] + eta * e * x[i][0]\n",
        "        w[1] = w[1] + eta * e * x[i][1]\n",
        "        w[2] = w[2] + eta * e * x[i][2]\n",
        "    print(w)\n"
      ],
      "execution_count": null,
      "outputs": [
        {
          "output_type": "stream",
          "name": "stdout",
          "text": [
            "[0.1 0.1 0.1]\n",
            "[0.  0.2 0.1]\n",
            "[-0.1  0.2  0.1]\n",
            "[-0.1  0.2  0.2]\n",
            "[-0.2  0.2  0.1]\n",
            "[-0.2  0.2  0.1]\n",
            "[-0.2  0.2  0.1]\n",
            "[-0.2  0.2  0.1]\n",
            "[-0.2  0.2  0.1]\n",
            "[-0.2  0.2  0.1]\n"
          ]
        }
      ]
    },
    {
      "cell_type": "code",
      "metadata": {
        "colab": {
          "base_uri": "https://localhost:8080/"
        },
        "id": "lCtMjY03nhAu",
        "outputId": "1087a3d7-af64-4ddb-ba91-74a5791b83d5"
      },
      "source": [
        "for i in range(len(x)):\n",
        "    fnet = f(np.dot(x[i], w))\n",
        "    print(fnet)"
      ],
      "execution_count": null,
      "outputs": [
        {
          "output_type": "stream",
          "name": "stdout",
          "text": [
            "0\n",
            "0\n",
            "0\n",
            "1\n"
          ]
        }
      ]
    },
    {
      "cell_type": "markdown",
      "source": [
        "# XOR"
      ],
      "metadata": {
        "id": "JHJmpEznhdxw"
      }
    },
    {
      "cell_type": "code",
      "source": [
        "import numpy as np\n",
        "\n",
        "def Sigmoid(x):\n",
        "    return 1/(1+np.exp(-x))\n",
        "\n",
        "x=np.array([[0,0],\n",
        "            [0,1],\n",
        "            [1,0],\n",
        "            [1,1]])\n",
        "\n",
        "w1=np.array([[-2,  5,  4],\n",
        "            [ 3,  6,  3]])\n",
        "b1=np.array([ 2, -2, -5])\n",
        "b2 = np.array([0])\n",
        "\n",
        "w2=np.array([[-4],\n",
        "            [ 8],\n",
        "            [-8]])\n",
        "\n",
        "h=Sigmoid(np.dot(x,w1)+b1)\n",
        "y=Sigmoid(np.dot(h,w2)+b2)\n",
        "\n",
        "print (h)\n",
        "print (y)"
      ],
      "metadata": {
        "colab": {
          "base_uri": "https://localhost:8080/"
        },
        "id": "yKs6Lf0pbOAy",
        "outputId": "6cc9cb1d-c72b-4840-e945-30ab80dcac58"
      },
      "execution_count": null,
      "outputs": [
        {
          "output_type": "stream",
          "name": "stdout",
          "text": [
            "[[0.88079708 0.11920292 0.00669285]\n",
            " [0.99330715 0.98201379 0.11920292]\n",
            " [0.5        0.95257413 0.26894142]\n",
            " [0.95257413 0.99987661 0.88079708]]\n",
            "[[0.06766597]\n",
            " [0.94927397]\n",
            " [0.96979454]\n",
            " [0.0542867 ]]\n"
          ]
        }
      ]
    },
    {
      "cell_type": "code",
      "source": [],
      "metadata": {
        "id": "Q7iaC6HkbNwj"
      },
      "execution_count": null,
      "outputs": []
    },
    {
      "cell_type": "code",
      "source": [],
      "metadata": {
        "id": "pW14UlxEbNhZ"
      },
      "execution_count": null,
      "outputs": []
    },
    {
      "cell_type": "code",
      "source": [],
      "metadata": {
        "id": "ecd7d_e7bNSy"
      },
      "execution_count": null,
      "outputs": []
    },
    {
      "cell_type": "code",
      "source": [],
      "metadata": {
        "id": "_KJoiYXGbNEN"
      },
      "execution_count": null,
      "outputs": []
    },
    {
      "cell_type": "code",
      "source": [],
      "metadata": {
        "id": "73Wl2INkbM1o"
      },
      "execution_count": null,
      "outputs": []
    },
    {
      "cell_type": "code",
      "source": [],
      "metadata": {
        "id": "aXvNwkonbMnK"
      },
      "execution_count": null,
      "outputs": []
    },
    {
      "cell_type": "code",
      "source": [],
      "metadata": {
        "id": "Jmex4xyrbMYk"
      },
      "execution_count": null,
      "outputs": []
    }
  ]
}