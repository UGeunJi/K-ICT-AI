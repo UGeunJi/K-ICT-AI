{
  "nbformat": 4,
  "nbformat_minor": 0,
  "metadata": {
    "colab": {
      "provenance": [],
      "gpuType": "T4"
    },
    "kernelspec": {
      "name": "python3",
      "display_name": "Python 3"
    },
    "language_info": {
      "name": "python"
    },
    "accelerator": "GPU",
    "gpuClass": "standard"
  },
  "cells": [
    {
      "cell_type": "markdown",
      "source": [
        "# 1. xor1"
      ],
      "metadata": {
        "id": "bKaoO_Y-NlL_"
      }
    },
    {
      "cell_type": "code",
      "metadata": {
        "colab": {
          "base_uri": "https://localhost:8080/"
        },
        "id": "D8fdG-jFHQZY",
        "outputId": "79b2292b-e450-46ab-a23d-b9ef603bb735"
      },
      "source": [
        "import numpy as np\n",
        "np.random.rand(2,3) # U(0,1): uniform 0 to 1"
      ],
      "execution_count": null,
      "outputs": [
        {
          "output_type": "execute_result",
          "data": {
            "text/plain": [
              "array([[0.07582636, 0.03106314, 0.80291538],\n",
              "       [0.01086901, 0.20261963, 0.10278597]])"
            ]
          },
          "metadata": {},
          "execution_count": 14
        }
      ]
    },
    {
      "cell_type": "code",
      "metadata": {
        "id": "WR_WCtqrDZid",
        "colab": {
          "base_uri": "https://localhost:8080/"
        },
        "outputId": "d1ae31c9-b764-4ffa-eee8-06263816b796"
      },
      "source": [
        "# xor1.ipynb\n",
        "import numpy as np\n",
        "def Sigmoid(x):\n",
        "    return 1./(1.+np.exp(-x))\n",
        "\n",
        "lamda = 1\n",
        "x=np.array([[1,0,0],[1,0,1],[1,1,0],[1,1,1]])\n",
        "t=np.array([[0],[1],[1],[0]])\n",
        "\n",
        "w1=2*np.random.rand(3,3)-1 # np.random.rand : 2*(0~1) 난수 -1 : -1 ~ 1\n",
        "w2=2*np.random.rand(3,1)-1\n",
        "\n",
        "print(w1, '/', w2)"
      ],
      "execution_count": null,
      "outputs": [
        {
          "output_type": "stream",
          "name": "stdout",
          "text": [
            "[[-0.37180927 -0.74655267 -0.38963072]\n",
            " [-0.17047736 -0.98237315  0.81893759]\n",
            " [ 0.82591866  0.70120659 -0.37411012]] / [[-0.90712285]\n",
            " [ 0.73143499]\n",
            " [-0.40465436]]\n"
          ]
        }
      ]
    },
    {
      "cell_type": "code",
      "metadata": {
        "id": "0XT5bHTU4lCQ",
        "colab": {
          "base_uri": "https://localhost:8080/"
        },
        "outputId": "568b54c8-33d3-445a-abad-b40d36639856"
      },
      "source": [
        "h=Sigmoid(np.dot(x,w1))\n",
        "y=Sigmoid(np.dot(h,w2))\n",
        "print(y, h.shape)"
      ],
      "execution_count": null,
      "outputs": [
        {
          "output_type": "stream",
          "name": "stdout",
          "text": [
            "[[0.54086895]\n",
            " [0.51459501]\n",
            " [0.60354234]\n",
            " [0.57764589]] (4, 3)\n"
          ]
        }
      ]
    },
    {
      "cell_type": "code",
      "metadata": {
        "id": "G8B6z6iRKOO1",
        "colab": {
          "base_uri": "https://localhost:8080/"
        },
        "outputId": "5421c832-35b7-4d90-bf03-6c30d315acb5"
      },
      "source": [
        "for i in range(2000):\n",
        "    h=Sigmoid(np.dot(x,w1))\n",
        "    y=Sigmoid(np.dot(h,w2)) # dot(): matrix multiplication.\n",
        "\n",
        "    deltaY= np.multiply(y-t,np.multiply(y,(1-y))) # multiply(): Multiply arguments element-wise.\n",
        "    temp = np.multiply(w2.transpose(),np.multiply(h,(1-h)))\n",
        "    deltaH = deltaY * temp\n",
        "\n",
        "    w2 = w2 - np.dot(h.transpose(),lamda*deltaY) # back propagation\n",
        "    w1 = w1 - np.dot(x.transpose(),lamda*deltaH)\n",
        "\n",
        "print(y)\n",
        "print(w1)\n",
        "print(w2)"
      ],
      "execution_count": null,
      "outputs": [
        {
          "output_type": "stream",
          "name": "stdout",
          "text": [
            "[[0.02513882]\n",
            " [0.9743143 ]\n",
            " [0.97584168]\n",
            " [0.02119499]]\n",
            "[[ 2.2521138  -3.05506899 -1.95837437]\n",
            " [-4.23461574 -5.84557321  3.45660794]\n",
            " [ 4.53679259  5.80236824 -3.5226522 ]]\n",
            "[[-5.23512994]\n",
            " [ 9.41023747]\n",
            " [ 5.29964178]]\n"
          ]
        }
      ]
    },
    {
      "cell_type": "code",
      "metadata": {
        "colab": {
          "base_uri": "https://localhost:8080/"
        },
        "id": "mw4xFSSNLz6Y",
        "outputId": "4fc2f758-1a89-4416-82a0-8620323f7034"
      },
      "source": [
        "deltaH.shape"
      ],
      "execution_count": null,
      "outputs": [
        {
          "output_type": "execute_result",
          "data": {
            "text/plain": [
              "(4, 3)"
            ]
          },
          "metadata": {},
          "execution_count": 9
        }
      ]
    },
    {
      "cell_type": "markdown",
      "source": [
        "# 2. XOR_NN_TF2"
      ],
      "metadata": {
        "id": "HTbOoCZnEXf2"
      }
    },
    {
      "cell_type": "code",
      "metadata": {
        "id": "YqHnP69OL_g1"
      },
      "source": [
        "import tensorflow as tf\n",
        "import numpy as np"
      ],
      "execution_count": null,
      "outputs": []
    },
    {
      "cell_type": "code",
      "metadata": {
        "id": "ahrlvKlSMBak",
        "colab": {
          "base_uri": "https://localhost:8080/"
        },
        "outputId": "1bcedc99-3663-43a5-a3c9-372ef97ba40d"
      },
      "source": [
        "x = np.array([[0,0],[0,1],[1,0],[1,1]]).astype('float32')\n",
        "y = np.array([[0],[1],[1],[0]]).astype('float32')\n",
        "x, y"
      ],
      "execution_count": null,
      "outputs": [
        {
          "output_type": "execute_result",
          "data": {
            "text/plain": [
              "(array([[0., 0.],\n",
              "        [0., 1.],\n",
              "        [1., 0.],\n",
              "        [1., 1.]], dtype=float32),\n",
              " array([[0.],\n",
              "        [1.],\n",
              "        [1.],\n",
              "        [0.]], dtype=float32))"
            ]
          },
          "metadata": {},
          "execution_count": 2
        }
      ]
    },
    {
      "cell_type": "code",
      "metadata": {
        "id": "3pQRGYkZOqoI"
      },
      "source": [
        "from tensorflow.keras import layers\n",
        "\n",
        "model = tf.keras.Sequential()\n",
        "model.add(layers.Dense(3, activation='sigmoid', input_dim=2))\n",
        "#model.add(layers.Dense(2, activation='sigmoid'))\n",
        "model.add(layers.Dense(1, activation='sigmoid'))\n",
        "sgd = tf.keras.optimizers.SGD(learning_rate=0.1)\n",
        "model.compile(optimizer=sgd,loss='binary_crossentropy',metrics=['accuracy'])"
      ],
      "execution_count": null,
      "outputs": []
    },
    {
      "cell_type": "code",
      "metadata": {
        "id": "x0f006RoPaOW",
        "colab": {
          "base_uri": "https://localhost:8080/"
        },
        "outputId": "6bc37463-d610-4635-a6a9-4a11eddd6a96"
      },
      "source": [
        "model.fit(x, y, epochs=10000, verbose=0)\n",
        "model.evaluate(x, y)"
      ],
      "execution_count": null,
      "outputs": [
        {
          "output_type": "stream",
          "name": "stdout",
          "text": [
            "1/1 [==============================] - 0s 195ms/step - loss: 0.0155 - accuracy: 1.0000\n"
          ]
        },
        {
          "output_type": "execute_result",
          "data": {
            "text/plain": [
              "[0.015527622774243355, 1.0]"
            ]
          },
          "metadata": {},
          "execution_count": 4
        }
      ]
    },
    {
      "cell_type": "code",
      "metadata": {
        "id": "zbsxCQ-qQWVs",
        "colab": {
          "base_uri": "https://localhost:8080/"
        },
        "outputId": "57199db6-8fea-4c89-e64e-68b1b0eff78c"
      },
      "source": [
        "predicted = model.predict(x)\n",
        "predicted"
      ],
      "execution_count": null,
      "outputs": [
        {
          "output_type": "stream",
          "name": "stdout",
          "text": [
            "1/1 [==============================] - 0s 98ms/step\n"
          ]
        },
        {
          "output_type": "execute_result",
          "data": {
            "text/plain": [
              "array([[0.01319701],\n",
              "       [0.9767592 ],\n",
              "       [0.99301034],\n",
              "       [0.01812988]], dtype=float32)"
            ]
          },
          "metadata": {},
          "execution_count": 5
        }
      ]
    },
    {
      "cell_type": "code",
      "metadata": {
        "id": "CxwVpwD7eETY",
        "colab": {
          "base_uri": "https://localhost:8080/"
        },
        "outputId": "646fcbc3-dfdb-4bca-cf80-140463c2bebc"
      },
      "source": [
        "import tensorflow  as tf\n",
        "import numpy as np\n",
        "\n",
        "x = np.array([[0,0],[0,1],[1,0],[1,1]]).astype('float32')\n",
        "y = np.array([[0],[1],[1],[0]]).astype('float32')\n",
        "\n",
        "from tensorflow.keras import layers\n",
        "model = tf.keras.Sequential()\n",
        "model.add(layers.Dense(3, activation='sigmoid', input_dim=2))\n",
        "model.add(layers.Dense(1, activation='sigmoid'))\n",
        "sgd= tf.keras.optimizers.SGD(learning_rate=0.1)\n",
        "#model.compile(optimizer='sgd', loss='binary_crossentropy',metrics=['accuracy'])\n",
        "model.compile(optimizer=sgd, loss='binary_crossentropy',metrics=['accuracy'])\n",
        "model.fit(x, y, epochs=10000, batch_size=4, verbose=0)\n",
        "model.evaluate(x, y)\n",
        "predicted = model.predict(x)\n",
        "print(predicted)"
      ],
      "execution_count": null,
      "outputs": [
        {
          "output_type": "stream",
          "name": "stdout",
          "text": [
            "1/1 [==============================] - 0s 110ms/step - loss: 0.0138 - accuracy: 1.0000\n",
            "1/1 [==============================] - 0s 43ms/step\n",
            "[[0.01343732]\n",
            " [0.986445  ]\n",
            " [0.9828995 ]\n",
            " [0.01090094]]\n"
          ]
        }
      ]
    },
    {
      "cell_type": "markdown",
      "source": [
        "# 3. XOR_DNN_TF2"
      ],
      "metadata": {
        "id": "3x9U7VJQEXjx"
      }
    },
    {
      "cell_type": "code",
      "metadata": {
        "id": "enUvlsmdcZor"
      },
      "source": [
        "import tensorflow as tf\n",
        "import numpy as np"
      ],
      "execution_count": null,
      "outputs": []
    },
    {
      "cell_type": "code",
      "metadata": {
        "colab": {
          "base_uri": "https://localhost:8080/"
        },
        "outputId": "9778002f-b935-4960-cbe0-ea598cc585f3",
        "id": "T0MTKIh4cZos"
      },
      "source": [
        "x = np.array([[0,0],[0,1],[1,0],[1,1]]).astype('float32')\n",
        "y = np.array([[0],[1],[1],[0]]).astype('float32')\n",
        "x, y"
      ],
      "execution_count": null,
      "outputs": [
        {
          "output_type": "execute_result",
          "data": {
            "text/plain": [
              "(array([[0., 0.],\n",
              "        [0., 1.],\n",
              "        [1., 0.],\n",
              "        [1., 1.]], dtype=float32),\n",
              " array([[0.],\n",
              "        [1.],\n",
              "        [1.],\n",
              "        [0.]], dtype=float32))"
            ]
          },
          "metadata": {},
          "execution_count": 17
        }
      ]
    },
    {
      "cell_type": "code",
      "metadata": {
        "id": "FiGV2nAkcZos"
      },
      "source": [
        "from tensorflow.keras import layers\n",
        "\n",
        "#actFunc = 'sigmoid' # 학습이 안된다.\n",
        "actFunc = 'relu' # 된다.\n",
        "model = tf.keras.Sequential()\n",
        "model.add(layers.Dense(10, activation=actFunc, input_dim=2))\n",
        "model.add(layers.Dense(10, activation=actFunc))\n",
        "model.add(layers.Dense(10, activation=actFunc))\n",
        "model.add(layers.Dense(10, activation=actFunc))\n",
        "model.add(layers.Dense(10, activation=actFunc))\n",
        "model.add(layers.Dense(10, activation=actFunc))\n",
        "model.add(layers.Dense(10, activation=actFunc))\n",
        "model.add(layers.Dense(1, activation='sigmoid'))\n",
        "sgd = tf.keras.optimizers.SGD(learning_rate=0.1)\n",
        "model.compile(optimizer=sgd,loss='binary_crossentropy',metrics=['accuracy'])"
      ],
      "execution_count": null,
      "outputs": []
    },
    {
      "cell_type": "code",
      "metadata": {
        "colab": {
          "base_uri": "https://localhost:8080/"
        },
        "outputId": "54bb58b1-b8a9-4a2c-e46c-4eed606a3fd0",
        "id": "y_zM2sp6cZos"
      },
      "source": [
        "model.fit(x, y, epochs=10000, batch_size=4, verbose=0)\n",
        "model.evaluate(x, y)"
      ],
      "execution_count": null,
      "outputs": [
        {
          "output_type": "stream",
          "name": "stdout",
          "text": [
            "1/1 [==============================] - 0s 148ms/step - loss: 1.5286e-05 - accuracy: 1.0000\n"
          ]
        },
        {
          "output_type": "execute_result",
          "data": {
            "text/plain": [
              "[1.528643406345509e-05, 1.0]"
            ]
          },
          "metadata": {},
          "execution_count": 19
        }
      ]
    },
    {
      "cell_type": "code",
      "metadata": {
        "colab": {
          "base_uri": "https://localhost:8080/"
        },
        "outputId": "be127f9b-1d0c-4153-93b8-38e8a9283f07",
        "id": "fsBaEmgTcZos"
      },
      "source": [
        "predicted = model.predict(x)\n",
        "predicted"
      ],
      "execution_count": null,
      "outputs": [
        {
          "output_type": "stream",
          "name": "stdout",
          "text": [
            "1/1 [==============================] - 0s 80ms/step\n"
          ]
        },
        {
          "output_type": "execute_result",
          "data": {
            "text/plain": [
              "array([[2.448102e-05],\n",
              "       [9.999913e-01],\n",
              "       [9.999919e-01],\n",
              "       [1.985229e-05]], dtype=float32)"
            ]
          },
          "metadata": {},
          "execution_count": 20
        }
      ]
    },
    {
      "cell_type": "markdown",
      "source": [
        "---\n",
        "\n",
        "$$e^x = 1 + \\frac{1!}{x} + \\frac{2!}{x^2} + \\cdots   ~~~~~~~   테일러 급수$$\n",
        "\n",
        "---"
      ],
      "metadata": {
        "id": "3-QTdg-fEXqh"
      }
    },
    {
      "cell_type": "markdown",
      "source": [
        "# 4. MNIST_DNN_Model_Savge_TF2"
      ],
      "metadata": {
        "id": "py_YJJO7EXtj"
      }
    },
    {
      "cell_type": "code",
      "metadata": {
        "id": "NF8m7TarBXRO"
      },
      "source": [
        "import tensorflow as tf\n",
        "import numpy as np"
      ],
      "execution_count": null,
      "outputs": []
    },
    {
      "cell_type": "code",
      "metadata": {
        "colab": {
          "base_uri": "https://localhost:8080/"
        },
        "outputId": "d4a6c25d-9079-45c0-e292-365cfe7fd7d7",
        "id": "fHZJiSvyBXRP"
      },
      "source": [
        "from tensorflow.keras import datasets\n",
        "from tensorflow.keras.utils import to_categorical\n",
        "mnist = datasets.mnist\n",
        "(train_x, train_y), (test_x, test_y) = mnist.load_data()"
      ],
      "execution_count": null,
      "outputs": [
        {
          "output_type": "stream",
          "name": "stdout",
          "text": [
            "Downloading data from https://storage.googleapis.com/tensorflow/tf-keras-datasets/mnist.npz\n",
            "11490434/11490434 [==============================] - 0s 0us/step\n"
          ]
        }
      ]
    },
    {
      "cell_type": "code",
      "metadata": {
        "id": "Qu3eS3wHLYwZ",
        "colab": {
          "base_uri": "https://localhost:8080/"
        },
        "outputId": "31095a97-8943-404c-bcbe-fb80186e28dc"
      },
      "source": [
        "train_x.shape"
      ],
      "execution_count": null,
      "outputs": [
        {
          "output_type": "execute_result",
          "data": {
            "text/plain": [
              "(60000, 28, 28)"
            ]
          },
          "metadata": {},
          "execution_count": 39
        }
      ]
    },
    {
      "cell_type": "code",
      "metadata": {
        "id": "pufXO_CgZHa3"
      },
      "source": [
        "train_x = train_x.reshape(-1,784) \n",
        "test_x = test_x.reshape(-1,784) \n"
      ],
      "execution_count": null,
      "outputs": []
    },
    {
      "cell_type": "code",
      "metadata": {
        "id": "I-EBAKzAaHYy"
      },
      "source": [
        "train_x = train_x / 255\n",
        "test_x = test_x / 255"
      ],
      "execution_count": null,
      "outputs": []
    },
    {
      "cell_type": "code",
      "metadata": {
        "id": "XwHRCkozZtYs",
        "colab": {
          "base_uri": "https://localhost:8080/"
        },
        "outputId": "e1a03de3-66a9-4c57-90c0-349fa2157444"
      },
      "source": [
        "train_y_onehot = to_categorical(train_y)\n",
        "test_y_onehot = to_categorical(test_y)\n",
        "train_y_onehot[0]"
      ],
      "execution_count": null,
      "outputs": [
        {
          "output_type": "execute_result",
          "data": {
            "text/plain": [
              "array([0., 0., 0., 0., 0., 1., 0., 0., 0., 0.], dtype=float32)"
            ]
          },
          "metadata": {},
          "execution_count": 42
        }
      ]
    },
    {
      "cell_type": "code",
      "metadata": {
        "colab": {
          "base_uri": "https://localhost:8080/"
        },
        "outputId": "d2994ebe-f0b7-45fa-ddd1-80ec282a8d33",
        "id": "CpdpF7xTBXRX"
      },
      "source": [
        "#Hidden Layer 추가\n",
        "from tensorflow.keras import layers\n",
        "model = tf.keras.Sequential()\n",
        "model.add(layers.Dense(256, activation='relu', input_dim=784))\n",
        "model.add(layers.Dense(256, activation='relu'))\n",
        "model.add(layers.Dense(10, activation='softmax'))\n",
        "model.compile(optimizer='sgd',loss='categorical_crossentropy',metrics=['accuracy'])\n",
        "model.fit(train_x, train_y_onehot, batch_size = 100, epochs=5)"
      ],
      "execution_count": null,
      "outputs": [
        {
          "output_type": "stream",
          "name": "stdout",
          "text": [
            "Epoch 1/5\n",
            "600/600 [==============================] - 7s 3ms/step - loss: 1.0784 - accuracy: 0.7360\n",
            "Epoch 2/5\n",
            "600/600 [==============================] - 2s 3ms/step - loss: 0.4341 - accuracy: 0.8817\n",
            "Epoch 3/5\n",
            "600/600 [==============================] - 2s 4ms/step - loss: 0.3485 - accuracy: 0.9010\n",
            "Epoch 4/5\n",
            "600/600 [==============================] - 2s 3ms/step - loss: 0.3095 - accuracy: 0.9113\n",
            "Epoch 5/5\n",
            "600/600 [==============================] - 2s 3ms/step - loss: 0.2836 - accuracy: 0.9188\n"
          ]
        },
        {
          "output_type": "execute_result",
          "data": {
            "text/plain": [
              "<keras.callbacks.History at 0x7fbda61aba00>"
            ]
          },
          "metadata": {},
          "execution_count": 43
        }
      ]
    },
    {
      "cell_type": "code",
      "metadata": {
        "id": "Q2ISyQtJ5Lbz",
        "colab": {
          "base_uri": "https://localhost:8080/"
        },
        "outputId": "36343482-a8bf-4e70-97ab-775e34450fa7"
      },
      "source": [
        "# adam 옵티마이저 사용\n",
        "from tensorflow.keras import layers\n",
        "model = tf.keras.Sequential()\n",
        "model.add(layers.Dense(256, activation='relu', input_dim=784))\n",
        "model.add(layers.Dense(256, activation='relu'))\n",
        "model.add(layers.Dense(10, activation='softmax'))\n",
        "model.compile(optimizer='adam',loss='categorical_crossentropy',metrics=['accuracy'])\n",
        "model.fit(train_x, train_y_onehot, batch_size = 100, epochs=5)"
      ],
      "execution_count": null,
      "outputs": [
        {
          "output_type": "stream",
          "name": "stdout",
          "text": [
            "Epoch 1/5\n",
            "600/600 [==============================] - 4s 3ms/step - loss: 0.2424 - accuracy: 0.9289\n",
            "Epoch 2/5\n",
            "600/600 [==============================] - 2s 3ms/step - loss: 0.0924 - accuracy: 0.9719\n",
            "Epoch 3/5\n",
            "600/600 [==============================] - 2s 3ms/step - loss: 0.0600 - accuracy: 0.9816\n",
            "Epoch 4/5\n",
            "600/600 [==============================] - 2s 3ms/step - loss: 0.0410 - accuracy: 0.9866\n",
            "Epoch 5/5\n",
            "600/600 [==============================] - 2s 3ms/step - loss: 0.0342 - accuracy: 0.9892\n"
          ]
        },
        {
          "output_type": "execute_result",
          "data": {
            "text/plain": [
              "<keras.callbacks.History at 0x7fbda538ffa0>"
            ]
          },
          "metadata": {},
          "execution_count": 44
        }
      ]
    },
    {
      "cell_type": "code",
      "metadata": {
        "colab": {
          "base_uri": "https://localhost:8080/"
        },
        "outputId": "4f50c8d0-039b-4d5b-9b38-bdd32c51bc6f",
        "id": "DtBDoJ_MBXRZ"
      },
      "source": [
        "# adam 옵티마이저 + He init.\n",
        "from tensorflow.keras import layers\n",
        "model = tf.keras.Sequential()\n",
        "model.add(layers.Dense(256, activation='relu', input_dim=784, kernel_initializer='he_normal'))\n",
        "model.add(layers.Dense(256, activation='relu', kernel_initializer='he_normal'))\n",
        "model.add(layers.Dense(10, activation='softmax', kernel_initializer='he_normal'))\n",
        "model.compile(optimizer='adam',loss='categorical_crossentropy',metrics=['accuracy'])\n",
        "model.fit(train_x, train_y_onehot, batch_size = 100, epochs=5)\n"
      ],
      "execution_count": null,
      "outputs": [
        {
          "output_type": "stream",
          "name": "stdout",
          "text": [
            "Epoch 1/5\n",
            "600/600 [==============================] - 4s 4ms/step - loss: 0.2356 - accuracy: 0.9304\n",
            "Epoch 2/5\n",
            "600/600 [==============================] - 2s 3ms/step - loss: 0.0919 - accuracy: 0.9722\n",
            "Epoch 3/5\n",
            "600/600 [==============================] - 2s 3ms/step - loss: 0.0589 - accuracy: 0.9815\n",
            "Epoch 4/5\n",
            "600/600 [==============================] - 2s 3ms/step - loss: 0.0428 - accuracy: 0.9861\n",
            "Epoch 5/5\n",
            "600/600 [==============================] - 2s 3ms/step - loss: 0.0309 - accuracy: 0.9899\n"
          ]
        },
        {
          "output_type": "execute_result",
          "data": {
            "text/plain": [
              "<keras.callbacks.History at 0x7fbd8060a020>"
            ]
          },
          "metadata": {},
          "execution_count": 45
        }
      ]
    },
    {
      "cell_type": "code",
      "metadata": {
        "id": "UuVi2LV3Rgln",
        "colab": {
          "base_uri": "https://localhost:8080/"
        },
        "outputId": "1ae04224-0358-43e3-a38c-a0696676c25c"
      },
      "source": [
        "model.evaluate(test_x, test_y_onehot)"
      ],
      "execution_count": null,
      "outputs": [
        {
          "output_type": "stream",
          "name": "stdout",
          "text": [
            "313/313 [==============================] - 1s 3ms/step - loss: 0.0706 - accuracy: 0.9810\n"
          ]
        },
        {
          "output_type": "execute_result",
          "data": {
            "text/plain": [
              "[0.07055909931659698, 0.9810000061988831]"
            ]
          },
          "metadata": {},
          "execution_count": 46
        }
      ]
    },
    {
      "cell_type": "code",
      "metadata": {
        "id": "ekznn8sxBXRb"
      },
      "source": [
        "# adam optimizer와 He 초기화 방법, 드롭아웃 추가\n",
        "from tensorflow.keras import layers\n",
        "model = tf.keras.Sequential()\n",
        "model.add(layers.Dense(256, activation='relu', kernel_initializer='he_normal', input_dim=784))\n",
        "model.add(layers.Dropout(0.3))\n",
        "model.add(layers.Dense(256, activation='relu', kernel_initializer='he_normal'))\n",
        "model.add(layers.Dropout(0.3))\n",
        "model.add(layers.Dense(10, activation='softmax'))\n",
        "model.compile(optimizer='adam',loss='categorical_crossentropy',metrics=['accuracy'])"
      ],
      "execution_count": null,
      "outputs": []
    },
    {
      "cell_type": "code",
      "metadata": {
        "id": "g6TBlKKTAoiF",
        "colab": {
          "base_uri": "https://localhost:8080/"
        },
        "outputId": "4116d999-c4c2-4042-acc8-1910c685fd7c"
      },
      "source": [
        "model.fit(train_x, train_y_onehot, batch_size = 100, epochs=10)"
      ],
      "execution_count": null,
      "outputs": [
        {
          "output_type": "stream",
          "name": "stdout",
          "text": [
            "Epoch 1/10\n",
            "600/600 [==============================] - 3s 3ms/step - loss: 0.3414 - accuracy: 0.8952\n",
            "Epoch 2/10\n",
            "600/600 [==============================] - 3s 4ms/step - loss: 0.1491 - accuracy: 0.9548\n",
            "Epoch 3/10\n",
            "600/600 [==============================] - 2s 3ms/step - loss: 0.1125 - accuracy: 0.9652\n",
            "Epoch 4/10\n",
            "600/600 [==============================] - 2s 3ms/step - loss: 0.0941 - accuracy: 0.9702\n",
            "Epoch 5/10\n",
            "600/600 [==============================] - 2s 3ms/step - loss: 0.0776 - accuracy: 0.9763\n",
            "Epoch 6/10\n",
            "600/600 [==============================] - 2s 3ms/step - loss: 0.0685 - accuracy: 0.9774\n",
            "Epoch 7/10\n",
            "600/600 [==============================] - 2s 4ms/step - loss: 0.0618 - accuracy: 0.9801\n",
            "Epoch 8/10\n",
            "600/600 [==============================] - 4s 7ms/step - loss: 0.0589 - accuracy: 0.9810\n",
            "Epoch 9/10\n",
            "600/600 [==============================] - 3s 5ms/step - loss: 0.0514 - accuracy: 0.9835\n",
            "Epoch 10/10\n",
            "600/600 [==============================] - 2s 4ms/step - loss: 0.0491 - accuracy: 0.9846\n"
          ]
        },
        {
          "output_type": "execute_result",
          "data": {
            "text/plain": [
              "<keras.callbacks.History at 0x7fbd803bd4b0>"
            ]
          },
          "metadata": {},
          "execution_count": 48
        }
      ]
    },
    {
      "cell_type": "code",
      "metadata": {
        "id": "X0p5-xmYAw3A",
        "colab": {
          "base_uri": "https://localhost:8080/"
        },
        "outputId": "d2125009-4d67-4ffb-cf56-774e4117ad55"
      },
      "source": [
        "model.evaluate(test_x, test_y_onehot)"
      ],
      "execution_count": null,
      "outputs": [
        {
          "output_type": "stream",
          "name": "stdout",
          "text": [
            "313/313 [==============================] - 1s 4ms/step - loss: 0.0664 - accuracy: 0.9810\n"
          ]
        },
        {
          "output_type": "execute_result",
          "data": {
            "text/plain": [
              "[0.06639556586742401, 0.9810000061988831]"
            ]
          },
          "metadata": {},
          "execution_count": 49
        }
      ]
    },
    {
      "cell_type": "code",
      "metadata": {
        "id": "KzSlKPkP8G9k",
        "colab": {
          "base_uri": "https://localhost:8080/"
        },
        "outputId": "9f362a83-e8e2-4caf-b6bd-dbb3fb32b33e"
      },
      "source": [
        "# 오버피팅 상황 만들기\n",
        "from tensorflow.keras import layers\n",
        "model = tf.keras.Sequential()\n",
        "model.add(layers.Dense(512, activation='relu', input_dim=784))\n",
        "\n",
        "model.add(layers.Dense(512, activation='relu'))\n",
        "\n",
        "model.add(layers.Dense(512, activation='relu'))\n",
        "\n",
        "model.add(layers.Dense(512, activation='relu'))\n",
        "\n",
        "model.add(layers.Dense(512, activation='relu'))\n",
        "\n",
        "model.add(layers.Dense(512, activation='relu'))\n",
        "\n",
        "model.add(layers.Dense(512, activation='relu'))\n",
        "\n",
        "model.add(layers.Dense(512, activation='relu'))\n",
        "\n",
        "model.add(layers.Dense(10, activation='softmax'))\n",
        "model.compile(optimizer='adam',loss='categorical_crossentropy',metrics=['accuracy'])\n",
        "model.fit(train_x, train_y_onehot, batch_size = 100, epochs=5)"
      ],
      "execution_count": null,
      "outputs": [
        {
          "output_type": "stream",
          "name": "stdout",
          "text": [
            "Epoch 1/5\n",
            "600/600 [==============================] - 6s 5ms/step - loss: 0.2655 - accuracy: 0.9211\n",
            "Epoch 2/5\n",
            "600/600 [==============================] - 3s 5ms/step - loss: 0.1226 - accuracy: 0.9680\n",
            "Epoch 3/5\n",
            "600/600 [==============================] - 4s 6ms/step - loss: 0.0944 - accuracy: 0.9748\n",
            "Epoch 4/5\n",
            "600/600 [==============================] - 3s 5ms/step - loss: 0.0756 - accuracy: 0.9805\n",
            "Epoch 5/5\n",
            "600/600 [==============================] - 3s 5ms/step - loss: 0.0631 - accuracy: 0.9838\n"
          ]
        },
        {
          "output_type": "execute_result",
          "data": {
            "text/plain": [
              "<keras.callbacks.History at 0x7fbd8018df00>"
            ]
          },
          "metadata": {},
          "execution_count": 50
        }
      ]
    },
    {
      "cell_type": "code",
      "metadata": {
        "id": "W2aBcizL8wx2",
        "colab": {
          "base_uri": "https://localhost:8080/"
        },
        "outputId": "9abd8579-ed9f-4948-8018-1a096941ad43"
      },
      "source": [
        "model.evaluate(test_x, test_y_onehot)"
      ],
      "execution_count": null,
      "outputs": [
        {
          "output_type": "stream",
          "name": "stdout",
          "text": [
            "313/313 [==============================] - 1s 3ms/step - loss: 0.0876 - accuracy: 0.9763\n"
          ]
        },
        {
          "output_type": "execute_result",
          "data": {
            "text/plain": [
              "[0.08755244314670563, 0.9763000011444092]"
            ]
          },
          "metadata": {},
          "execution_count": 51
        }
      ]
    },
    {
      "cell_type": "code",
      "metadata": {
        "id": "PmrAGy14JiOU"
      },
      "source": [
        "model.save(\"test.h5\")"
      ],
      "execution_count": null,
      "outputs": []
    },
    {
      "cell_type": "code",
      "metadata": {
        "id": "Wx1fYK130Wnr",
        "colab": {
          "base_uri": "https://localhost:8080/"
        },
        "outputId": "ed8595f3-8ad9-4f16-8d2f-36f2838c74e9"
      },
      "source": [
        "!ls "
      ],
      "execution_count": null,
      "outputs": [
        {
          "output_type": "stream",
          "name": "stdout",
          "text": [
            "sample_data  test.h5\n"
          ]
        }
      ]
    },
    {
      "cell_type": "code",
      "metadata": {
        "id": "T5OizcKyJyCv",
        "colab": {
          "base_uri": "https://localhost:8080/"
        },
        "outputId": "97eec181-4431-4ebc-aafa-a556aa3a1e48"
      },
      "source": [
        "import tensorflow as tf\n",
        "from tensorflow.keras import datasets\n",
        "from tensorflow.keras.utils import to_categorical\n",
        "\n",
        "mnist = datasets.mnist\n",
        "(train_x, train_y), (test_x, test_y) = mnist.load_data()\n",
        "train_x = train_x.reshape(-1,784) \n",
        "test_x = test_x.reshape(-1,784)\n",
        "train_x = train_x / 255\n",
        "test_x = test_x / 255\n",
        "train_y_onehot = to_categorical(train_y)\n",
        "test_y_onehot = to_categorical(test_y)\n",
        "train_y_onehot[0]\n",
        "\n",
        "model = tf.keras.models.load_model('test.h5')\n",
        "model.evaluate(test_x, test_y_onehot)"
      ],
      "execution_count": null,
      "outputs": [
        {
          "output_type": "stream",
          "name": "stdout",
          "text": [
            "313/313 [==============================] - 1s 3ms/step - loss: 0.0876 - accuracy: 0.9763\n"
          ]
        },
        {
          "output_type": "execute_result",
          "data": {
            "text/plain": [
              "[0.08755244314670563, 0.9763000011444092]"
            ]
          },
          "metadata": {},
          "execution_count": 54
        }
      ]
    },
    {
      "cell_type": "code",
      "metadata": {
        "id": "ZCeSv3Mm7umU",
        "colab": {
          "base_uri": "https://localhost:8080/",
          "height": 17
        },
        "outputId": "c7a88738-1418-4221-df47-ffa921510452"
      },
      "source": [
        "from google.colab import files\n",
        "files.download('test.h5') "
      ],
      "execution_count": null,
      "outputs": [
        {
          "output_type": "display_data",
          "data": {
            "text/plain": [
              "<IPython.core.display.Javascript object>"
            ],
            "application/javascript": [
              "\n",
              "    async function download(id, filename, size) {\n",
              "      if (!google.colab.kernel.accessAllowed) {\n",
              "        return;\n",
              "      }\n",
              "      const div = document.createElement('div');\n",
              "      const label = document.createElement('label');\n",
              "      label.textContent = `Downloading \"${filename}\": `;\n",
              "      div.appendChild(label);\n",
              "      const progress = document.createElement('progress');\n",
              "      progress.max = size;\n",
              "      div.appendChild(progress);\n",
              "      document.body.appendChild(div);\n",
              "\n",
              "      const buffers = [];\n",
              "      let downloaded = 0;\n",
              "\n",
              "      const channel = await google.colab.kernel.comms.open(id);\n",
              "      // Send a message to notify the kernel that we're ready.\n",
              "      channel.send({})\n",
              "\n",
              "      for await (const message of channel.messages) {\n",
              "        // Send a message to notify the kernel that we're ready.\n",
              "        channel.send({})\n",
              "        if (message.buffers) {\n",
              "          for (const buffer of message.buffers) {\n",
              "            buffers.push(buffer);\n",
              "            downloaded += buffer.byteLength;\n",
              "            progress.value = downloaded;\n",
              "          }\n",
              "        }\n",
              "      }\n",
              "      const blob = new Blob(buffers, {type: 'application/binary'});\n",
              "      const a = document.createElement('a');\n",
              "      a.href = window.URL.createObjectURL(blob);\n",
              "      a.download = filename;\n",
              "      div.appendChild(a);\n",
              "      a.click();\n",
              "      div.remove();\n",
              "    }\n",
              "  "
            ]
          },
          "metadata": {}
        },
        {
          "output_type": "display_data",
          "data": {
            "text/plain": [
              "<IPython.core.display.Javascript object>"
            ],
            "application/javascript": [
              "download(\"download_cb8ab757-71c0-474d-9590-356268471bee\", \"test.h5\", 27021640)"
            ]
          },
          "metadata": {}
        }
      ]
    },
    {
      "cell_type": "markdown",
      "source": [
        "# 1. CNNToyImage"
      ],
      "metadata": {
        "id": "erpYk1HJZiKr"
      }
    },
    {
      "cell_type": "code",
      "metadata": {
        "id": "JWY5xoqbEzYK",
        "colab": {
          "base_uri": "https://localhost:8080/",
          "height": 453
        },
        "outputId": "8d52670c-719f-48a3-81af-4e4581cc7285"
      },
      "source": [
        "import tensorflow as tf\n",
        "import numpy as np\n",
        "import matplotlib.pyplot as plt\n",
        "image=np.array([[[[1],[2],[3]],\n",
        "                 [[4],[5],[6]],\n",
        "                 [[7],[8],[9]]]], dtype=np.float32)\n",
        "\n",
        "print (image.shape)\n",
        "plt.grid(False)\n",
        "plt.imshow(image.reshape(3,3), cmap='Greys')\n",
        "plt.show()"
      ],
      "execution_count": null,
      "outputs": [
        {
          "output_type": "stream",
          "name": "stdout",
          "text": [
            "(1, 3, 3, 1)\n"
          ]
        },
        {
          "output_type": "display_data",
          "data": {
            "text/plain": [
              "<Figure size 640x480 with 1 Axes>"
            ],
            "image/png": "[encoded data removed]"
          },
          "metadata": {}
        }
      ]
    },
    {
      "cell_type": "code",
      "metadata": {
        "id": "KQclJeTkzVid",
        "colab": {
          "base_uri": "https://localhost:8080/"
        },
        "outputId": "0cb1a329-957e-40ce-e7c9-ed87de016441"
      },
      "source": [
        "weight=tf.constant([[[[1.]],[[1.]]],\n",
        "                    [[[1.]],[[1.]]]])\n",
        "print (\"weight.shape\", weight.shape) # (2*2) kernel, 1 input channel, 1 output channel \n",
        "conv2d=tf.nn.conv2d(image, weight, strides=[1,1], padding='VALID') # strides = [width, height]\n",
        "conv2d_img=conv2d.numpy() # tensor2numpy\n",
        "print (\"conv2d_img.shape\",conv2d_img )"
      ],
      "execution_count": null,
      "outputs": [
        {
          "output_type": "stream",
          "name": "stdout",
          "text": [
            "weight.shape (2, 2, 1, 1)\n",
            "conv2d_img.shape [[[[12.]\n",
            "   [16.]]\n",
            "\n",
            "  [[24.]\n",
            "   [28.]]]]\n"
          ]
        }
      ]
    },
    {
      "cell_type": "code",
      "metadata": {
        "id": "3Q7qvPH67YgN",
        "colab": {
          "base_uri": "https://localhost:8080/"
        },
        "outputId": "db9069e8-afe9-4b54-87ca-e7a33e713177"
      },
      "source": [
        "conv2d = tf.nn.conv2d(image, weight, strides=[1,1], padding='SAME')\n",
        "conv2d = tf.nn.relu(conv2d)\n",
        "conv2d_img=conv2d.numpy()\n",
        "print (\"conv2d_img.shape\",conv2d_img )"
      ],
      "execution_count": null,
      "outputs": [
        {
          "output_type": "stream",
          "name": "stdout",
          "text": [
            "conv2d_img.shape [[[[12.]\n",
            "   [16.]\n",
            "   [ 9.]]\n",
            "\n",
            "  [[24.]\n",
            "   [28.]\n",
            "   [15.]]\n",
            "\n",
            "  [[15.]\n",
            "   [17.]\n",
            "   [ 9.]]]]\n"
          ]
        }
      ]
    },
    {
      "cell_type": "code",
      "metadata": {
        "id": "tGvsYKup5_Ao",
        "colab": {
          "base_uri": "https://localhost:8080/"
        },
        "outputId": "2cba0f12-1e2e-4aed-ab61-5e330aacb791"
      },
      "source": [
        "image=np.array([[[[1,1,1],[2,2,2],[3,3,3]],\n",
        "                 [[4,4,4],[5,5,5],[6,6,6]],\n",
        "                 [[7,7,7],[8,8,8],[9,9,9]]]], dtype=np.float32)\n",
        "print (image.shape)\n",
        "weight=tf.constant([[[[1.],[1.],[1.]],[[1.],[1.],[1.]]],\n",
        "                    [[[1.],[1.],[1.]],[[1.],[1.],[1.]]]])\n",
        "print (\"weight.shape\", weight.shape)\n",
        "\n",
        "conv2d=tf.nn.conv2d(image, weight, strides=[1,1], padding='VALID')\n",
        "conv2d_img=conv2d.numpy()\n",
        "print (\"conv2d_img.shape\", conv2d_img )\n"
      ],
      "execution_count": null,
      "outputs": [
        {
          "output_type": "stream",
          "name": "stdout",
          "text": [
            "(1, 3, 3, 3)\n",
            "weight.shape (2, 2, 3, 1)\n",
            "conv2d_img.shape [[[[36.]\n",
            "   [48.]]\n",
            "\n",
            "  [[72.]\n",
            "   [84.]]]]\n"
          ]
        }
      ]
    },
    {
      "cell_type": "code",
      "metadata": {
        "id": "5I3PgSNczxeH",
        "colab": {
          "base_uri": "https://localhost:8080/"
        },
        "outputId": "cd2b0f18-19a8-4f27-9e87-b89622297320"
      },
      "source": [
        "image=np.array([[[[1],[2],[3]],\n",
        "                 [[4],[5],[6]],\n",
        "                 [[7],[8],[9]]]], dtype=np.float32)\n",
        "\n",
        "weight=tf.constant([[[[1.,10., -1.]],[[1.,10., -1.]]],\n",
        "                    [[[1.,10., -1.]],[[1.,10., -1.]]]])\n",
        "print (\"weight.shape\", weight.shape)\n",
        "conv2d=tf.nn.conv2d(image, weight, strides=[1,1], padding='SAME')\n",
        "conv2d_img=conv2d.numpy()\n",
        "print (\"conv2d_img.shape\",conv2d_img.shape )\n"
      ],
      "execution_count": null,
      "outputs": [
        {
          "output_type": "stream",
          "name": "stdout",
          "text": [
            "weight.shape (2, 2, 1, 3)\n",
            "conv2d_img.shape (1, 3, 3, 3)\n"
          ]
        }
      ]
    },
    {
      "cell_type": "code",
      "metadata": {
        "id": "j5GbJPP2zyR3",
        "colab": {
          "base_uri": "https://localhost:8080/",
          "height": 749
        },
        "outputId": "bb707655-d971-43e0-8856-6bc5859a9624"
      },
      "source": [
        "# plotting Code\n",
        "conv2d_img=np.swapaxes(conv2d_img, 0,3)\n",
        "for i, one_img in enumerate(conv2d_img):\n",
        "    print (one_img.reshape(3,3))\n",
        "    plt.subplot(1,3,i+1), plt.grid(False), plt.imshow(one_img.reshape(3,3), cmap='gray')\n",
        "    plt.show()"
      ],
      "execution_count": null,
      "outputs": [
        {
          "output_type": "stream",
          "name": "stdout",
          "text": [
            "[[12. 16.  9.]\n",
            " [24. 28. 15.]\n",
            " [15. 17.  9.]]\n"
          ]
        },
        {
          "output_type": "display_data",
          "data": {
            "text/plain": [
              "<Figure size 640x480 with 1 Axes>"
            ],
            "image/png": "[encoded data removed]"
          },
          "metadata": {}
        },
        {
          "output_type": "stream",
          "name": "stdout",
          "text": [
            "[[120. 160.  90.]\n",
            " [240. 280. 150.]\n",
            " [150. 170.  90.]]\n"
          ]
        },
        {
          "output_type": "display_data",
          "data": {
            "text/plain": [
              "<Figure size 640x480 with 1 Axes>"
            ],
            "image/png": "[encoded data removed]"
          },
          "metadata": {}
        },
        {
          "output_type": "stream",
          "name": "stdout",
          "text": [
            "[[-12. -16.  -9.]\n",
            " [-24. -28. -15.]\n",
            " [-15. -17.  -9.]]\n"
          ]
        },
        {
          "output_type": "display_data",
          "data": {
            "text/plain": [
              "<Figure size 640x480 with 1 Axes>"
            ],
            "image/png": "[encoded data removed]"
          },
          "metadata": {}
        }
      ]
    },
    {
      "cell_type": "markdown",
      "source": [
        "# 2. MNIST Convolution Layer"
      ],
      "metadata": {
        "id": "dQgNhcRjZluV"
      }
    },
    {
      "cell_type": "code",
      "metadata": {
        "id": "2Zfs_iXnUgI8",
        "colab": {
          "base_uri": "https://localhost:8080/",
          "height": 338
        },
        "outputId": "4d12ede4-76a9-4049-87b6-88640c95397b"
      },
      "source": [
        "# Mnist_convLayer.ipynb\n",
        "import tensorflow as tf\n",
        "import numpy as np\n",
        "import matplotlib.pyplot as plt\n",
        "from tensorflow.keras import datasets\n",
        "from tensorflow.keras.utils import to_categorical\n",
        "mnist = datasets.mnist\n",
        "(train_x, train_y), (test_x, test_y) = mnist.load_data()\n",
        "\n",
        "img=train_x[0]\n",
        "plt.imshow(img, cmap='gray')\n",
        "plt.show()\n"
      ],
      "execution_count": null,
      "outputs": [
        {
          "output_type": "stream",
          "name": "stdout",
          "text": [
            "Downloading data from https://storage.googleapis.com/tensorflow/tf-keras-datasets/mnist.npz\n",
            "11493376/11490434 [==============================] - 0s 0us/step\n",
            "11501568/11490434 [==============================] - 0s 0us/step\n"
          ]
        },
        {
          "output_type": "display_data",
          "data": {
            "image/png": "[encoded data removed]",
            "text/plain": [
              "<Figure size 432x288 with 1 Axes>"
            ]
          },
          "metadata": {
            "needs_background": "light"
          }
        }
      ]
    },
    {
      "cell_type": "code",
      "metadata": {
        "id": "TyqdQfBoUm8J",
        "colab": {
          "base_uri": "https://localhost:8080/"
        },
        "outputId": "57ca2bf0-1ab1-4525-b904-676109cc0f5a"
      },
      "source": [
        "img=img.reshape(-1,28,28,1)\n",
        "W1=tf.random.normal([3,3,1,5], stddev=0.01)\n",
        "W1"
      ],
      "execution_count": null,
      "outputs": [
        {
          "output_type": "execute_result",
          "data": {
            "text/plain": [
              "<tf.Tensor: shape=(3, 3, 1, 5), dtype=float32, numpy=\n",
              "array([[[[ 0.0058894 ,  0.01764114, -0.00140458, -0.00684673,\n",
              "          -0.01178506]],\n",
              "\n",
              "        [[-0.014321  , -0.00464156, -0.00766274,  0.02152032,\n",
              "          -0.00220809]],\n",
              "\n",
              "        [[-0.00139505,  0.00025918, -0.0119962 , -0.02510361,\n",
              "          -0.00513373]]],\n",
              "\n",
              "\n",
              "       [[[ 0.00310496,  0.00154896,  0.01951706,  0.01527254,\n",
              "          -0.01306877]],\n",
              "\n",
              "        [[ 0.01594552, -0.00335677, -0.00307207,  0.01106343,\n",
              "           0.00211509]],\n",
              "\n",
              "        [[-0.01009816,  0.00125275, -0.00136089,  0.00939294,\n",
              "          -0.01594727]]],\n",
              "\n",
              "\n",
              "       [[[ 0.00632875,  0.01938115, -0.00308961,  0.01837647,\n",
              "          -0.01411136]],\n",
              "\n",
              "        [[ 0.00611449,  0.00449217, -0.00357448,  0.0198325 ,\n",
              "           0.00615616]],\n",
              "\n",
              "        [[-0.00885762,  0.01527958,  0.01106373, -0.02189904,\n",
              "           0.00823379]]]], dtype=float32)>"
            ]
          },
          "metadata": {},
          "execution_count": 2
        }
      ]
    },
    {
      "cell_type": "code",
      "metadata": {
        "id": "m3UsoG0Fpt8R",
        "colab": {
          "base_uri": "https://localhost:8080/"
        },
        "outputId": "630a3736-9dbe-4ef6-8055-0fbde64f6b25"
      },
      "source": [
        "conv2d=tf.nn.conv2d(img, W1, strides=[2,2], padding='VALID')\n",
        "conv2d_img=conv2d.numpy()\n",
        "print(conv2d_img.shape)\n"
      ],
      "execution_count": null,
      "outputs": [
        {
          "output_type": "stream",
          "name": "stdout",
          "text": [
            "(1, 13, 13, 5)\n"
          ]
        }
      ]
    },
    {
      "cell_type": "code",
      "metadata": {
        "id": "2iPDdMnmqOXe",
        "colab": {
          "base_uri": "https://localhost:8080/",
          "height": 462
        },
        "outputId": "54d8c6f1-e3dc-4eba-ab46-7dd914213b80"
      },
      "source": [
        "pool=tf.nn.max_pool(conv2d, ksize=[2,2], strides=[2,2], padding='SAME')\n",
        "pool_img=pool.numpy()\n",
        "pool_img=np.swapaxes(pool_img,0,3)\n",
        "for i, one_img in enumerate(pool_img):\n",
        "    plt.subplot(1,5,i+1), plt.imshow(one_img.reshape(7,7), cmap='gray'), plt.show()\n"
      ],
      "execution_count": null,
      "outputs": [
        {
          "output_type": "display_data",
          "data": {
            "image/png": "[encoded data removed]",
            "text/plain": [
              "<Figure size 432x288 with 1 Axes>"
            ]
          },
          "metadata": {
            "needs_background": "light"
          }
        },
        {
          "output_type": "display_data",
          "data": {
            "image/png": "[encoded data removed]",
            "text/plain": [
              "<Figure size 432x288 with 1 Axes>"
            ]
          },
          "metadata": {
            "needs_background": "light"
          }
        },
        {
          "output_type": "display_data",
          "data": {
            "image/png": "[encoded data removed]",
            "text/plain": [
              "<Figure size 432x288 with 1 Axes>"
            ]
          },
          "metadata": {
            "needs_background": "light"
          }
        },
        {
          "output_type": "display_data",
          "data": {
            "image/png": "[encoded data removed]",
            "text/plain": [
              "<Figure size 432x288 with 1 Axes>"
            ]
          },
          "metadata": {
            "needs_background": "light"
          }
        },
        {
          "output_type": "display_data",
          "data": {
            "image/png": "[encoded data removed]",
            "text/plain": [
              "<Figure size 432x288 with 1 Axes>"
            ]
          },
          "metadata": {
            "needs_background": "light"
          }
        }
      ]
    },
    {
      "cell_type": "markdown",
      "source": [
        "# 3. MNIST CNN_TF2"
      ],
      "metadata": {
        "id": "BD6y9Fkxe6jB"
      }
    },
    {
      "cell_type": "code",
      "metadata": {
        "id": "aWSc5WZCuwy3"
      },
      "source": [
        "import tensorflow as tf\n",
        "from tensorflow.keras import layers, models\n",
        "from tensorflow.keras import datasets \n",
        "from tensorflow.keras.utils import to_categorical"
      ],
      "execution_count": null,
      "outputs": []
    },
    {
      "cell_type": "code",
      "metadata": {
        "id": "hO6KW0tDLBbM",
        "colab": {
          "base_uri": "https://localhost:8080/"
        },
        "outputId": "30c4f2ba-dd59-431d-bf89-2650f9fa6402"
      },
      "source": [
        "(train_images, train_labels), (test_images, test_labels) = datasets.mnist.load_data()\n",
        "print(train_images[0].shape)\n",
        "print(train_images[0])"
      ],
      "execution_count": null,
      "outputs": [
        {
          "output_type": "stream",
          "name": "stdout",
          "text": [
            "(28, 28)\n",
            "[[  0   0   0   0   0   0   0   0   0   0   0   0   0   0   0   0   0   0\n",
            "    0   0   0   0   0   0   0   0   0   0]\n",
            " [  0   0   0   0   0   0   0   0   0   0   0   0   0   0   0   0   0   0\n",
            "    0   0   0   0   0   0   0   0   0   0]\n",
            " [  0   0   0   0   0   0   0   0   0   0   0   0   0   0   0   0   0   0\n",
            "    0   0   0   0   0   0   0   0   0   0]\n",
            " [  0   0   0   0   0   0   0   0   0   0   0   0   0   0   0   0   0   0\n",
            "    0   0   0   0   0   0   0   0   0   0]\n",
            " [  0   0   0   0   0   0   0   0   0   0   0   0   0   0   0   0   0   0\n",
            "    0   0   0   0   0   0   0   0   0   0]\n",
            " [  0   0   0   0   0   0   0   0   0   0   0   0   3  18  18  18 126 136\n",
            "  175  26 166 255 247 127   0   0   0   0]\n",
            " [  0   0   0   0   0   0   0   0  30  36  94 154 170 253 253 253 253 253\n",
            "  225 172 253 242 195  64   0   0   0   0]\n",
            " [  0   0   0   0   0   0   0  49 238 253 253 253 253 253 253 253 253 251\n",
            "   93  82  82  56  39   0   0   0   0   0]\n",
            " [  0   0   0   0   0   0   0  18 219 253 253 253 253 253 198 182 247 241\n",
            "    0   0   0   0   0   0   0   0   0   0]\n",
            " [  0   0   0   0   0   0   0   0  80 156 107 253 253 205  11   0  43 154\n",
            "    0   0   0   0   0   0   0   0   0   0]\n",
            " [  0   0   0   0   0   0   0   0   0  14   1 154 253  90   0   0   0   0\n",
            "    0   0   0   0   0   0   0   0   0   0]\n",
            " [  0   0   0   0   0   0   0   0   0   0   0 139 253 190   2   0   0   0\n",
            "    0   0   0   0   0   0   0   0   0   0]\n",
            " [  0   0   0   0   0   0   0   0   0   0   0  11 190 253  70   0   0   0\n",
            "    0   0   0   0   0   0   0   0   0   0]\n",
            " [  0   0   0   0   0   0   0   0   0   0   0   0  35 241 225 160 108   1\n",
            "    0   0   0   0   0   0   0   0   0   0]\n",
            " [  0   0   0   0   0   0   0   0   0   0   0   0   0  81 240 253 253 119\n",
            "   25   0   0   0   0   0   0   0   0   0]\n",
            " [  0   0   0   0   0   0   0   0   0   0   0   0   0   0  45 186 253 253\n",
            "  150  27   0   0   0   0   0   0   0   0]\n",
            " [  0   0   0   0   0   0   0   0   0   0   0   0   0   0   0  16  93 252\n",
            "  253 187   0   0   0   0   0   0   0   0]\n",
            " [  0   0   0   0   0   0   0   0   0   0   0   0   0   0   0   0   0 249\n",
            "  253 249  64   0   0   0   0   0   0   0]\n",
            " [  0   0   0   0   0   0   0   0   0   0   0   0   0   0  46 130 183 253\n",
            "  253 207   2   0   0   0   0   0   0   0]\n",
            " [  0   0   0   0   0   0   0   0   0   0   0   0  39 148 229 253 253 253\n",
            "  250 182   0   0   0   0   0   0   0   0]\n",
            " [  0   0   0   0   0   0   0   0   0   0  24 114 221 253 253 253 253 201\n",
            "   78   0   0   0   0   0   0   0   0   0]\n",
            " [  0   0   0   0   0   0   0   0  23  66 213 253 253 253 253 198  81   2\n",
            "    0   0   0   0   0   0   0   0   0   0]\n",
            " [  0   0   0   0   0   0  18 171 219 253 253 253 253 195  80   9   0   0\n",
            "    0   0   0   0   0   0   0   0   0   0]\n",
            " [  0   0   0   0  55 172 226 253 253 253 253 244 133  11   0   0   0   0\n",
            "    0   0   0   0   0   0   0   0   0   0]\n",
            " [  0   0   0   0 136 253 253 253 212 135 132  16   0   0   0   0   0   0\n",
            "    0   0   0   0   0   0   0   0   0   0]\n",
            " [  0   0   0   0   0   0   0   0   0   0   0   0   0   0   0   0   0   0\n",
            "    0   0   0   0   0   0   0   0   0   0]\n",
            " [  0   0   0   0   0   0   0   0   0   0   0   0   0   0   0   0   0   0\n",
            "    0   0   0   0   0   0   0   0   0   0]\n",
            " [  0   0   0   0   0   0   0   0   0   0   0   0   0   0   0   0   0   0\n",
            "    0   0   0   0   0   0   0   0   0   0]]\n"
          ]
        }
      ]
    },
    {
      "cell_type": "code",
      "metadata": {
        "id": "urNXCZo2u65n",
        "colab": {
          "base_uri": "https://localhost:8080/"
        },
        "outputId": "eb329682-ebfa-4f5e-c166-cdad3cd75e93"
      },
      "source": [
        "(train_images, train_labels), (test_images, test_labels) = datasets.mnist.load_data()\n",
        "train_images = train_images.reshape((60000, 28, 28, 1))\n",
        "test_images = test_images.reshape((10000, 28, 28, 1))\n",
        "\n",
        "# 픽셀 값을 0~1 사이로 정규화합니다.\n",
        "train_images, test_images = train_images / 255.0, test_images / 255.0\n",
        "train_y_onehot = to_categorical(train_labels)\n",
        "test_y_onehot = to_categorical(test_labels)\n",
        "train_y_onehot[0]"
      ],
      "execution_count": null,
      "outputs": [
        {
          "output_type": "execute_result",
          "data": {
            "text/plain": [
              "array([0., 0., 0., 0., 0., 1., 0., 0., 0., 0.], dtype=float32)"
            ]
          },
          "metadata": {},
          "execution_count": 69
        }
      ]
    },
    {
      "cell_type": "code",
      "metadata": {
        "id": "R9_H-4rNu7pZ",
        "colab": {
          "base_uri": "https://localhost:8080/"
        },
        "outputId": "9e3d9ced-6974-4faf-d548-f48253887830"
      },
      "source": [
        "model = models.Sequential()\n",
        "model.add(layers.Conv2D(32, (3, 3), activation='relu', input_shape=(28, 28, 1)))\n",
        "model.add(layers.MaxPooling2D((2, 2)))\n",
        "model.add(layers.Conv2D(64, (3, 3), activation='relu'))\n",
        "model.add(layers.MaxPooling2D((2, 2)))\n",
        "model.add(layers.Flatten())\n",
        "model.add(layers.Dense(10, activation='softmax'))\n",
        "model.summary()"
      ],
      "execution_count": null,
      "outputs": [
        {
          "output_type": "stream",
          "name": "stdout",
          "text": [
            "Model: \"sequential_5\"\n",
            "_________________________________________________________________\n",
            " Layer (type)                Output Shape              Param #   \n",
            "=================================================================\n",
            " conv2d (Conv2D)             (None, 26, 26, 32)        320       \n",
            "                                                                 \n",
            " max_pooling2d (MaxPooling2D  (None, 13, 13, 32)       0         \n",
            " )                                                               \n",
            "                                                                 \n",
            " conv2d_1 (Conv2D)           (None, 11, 11, 64)        18496     \n",
            "                                                                 \n",
            " max_pooling2d_1 (MaxPooling  (None, 5, 5, 64)         0         \n",
            " 2D)                                                             \n",
            "                                                                 \n",
            " flatten (Flatten)           (None, 1600)              0         \n",
            "                                                                 \n",
            " dense_21 (Dense)            (None, 10)                16010     \n",
            "                                                                 \n",
            "=================================================================\n",
            "Total params: 34,826\n",
            "Trainable params: 34,826\n",
            "Non-trainable params: 0\n",
            "_________________________________________________________________\n"
          ]
        }
      ]
    },
    {
      "cell_type": "code",
      "metadata": {
        "id": "zF9OZA8xvDQs",
        "colab": {
          "base_uri": "https://localhost:8080/"
        },
        "outputId": "664b709d-3fd1-42d7-fe77-0082c83c5d1e"
      },
      "source": [
        "model.compile(optimizer='adam',\n",
        "              loss='categorical_crossentropy',\n",
        "              metrics=['accuracy'])\n",
        "\n",
        "model.fit(train_images, train_y_onehot, epochs=5)"
      ],
      "execution_count": null,
      "outputs": [
        {
          "output_type": "stream",
          "name": "stdout",
          "text": [
            "Epoch 1/5\n",
            "1875/1875 [==============================] - 12s 5ms/step - loss: 0.1580 - accuracy: 0.9542\n",
            "Epoch 2/5\n",
            "1875/1875 [==============================] - 7s 4ms/step - loss: 0.0525 - accuracy: 0.9836\n",
            "Epoch 3/5\n",
            "1875/1875 [==============================] - 8s 4ms/step - loss: 0.0378 - accuracy: 0.9886\n",
            "Epoch 4/5\n",
            "1875/1875 [==============================] - 7s 4ms/step - loss: 0.0281 - accuracy: 0.9909\n",
            "Epoch 5/5\n",
            "1875/1875 [==============================] - 7s 4ms/step - loss: 0.0221 - accuracy: 0.9931\n"
          ]
        },
        {
          "output_type": "execute_result",
          "data": {
            "text/plain": [
              "<keras.callbacks.History at 0x7fbd9e591000>"
            ]
          },
          "metadata": {},
          "execution_count": 71
        }
      ]
    },
    {
      "cell_type": "code",
      "metadata": {
        "id": "ozeeqRzUxRpf",
        "colab": {
          "base_uri": "https://localhost:8080/"
        },
        "outputId": "76a3fce8-fcf1-440b-8d55-2236a044c739"
      },
      "source": [
        "test_loss, test_acc = model.evaluate(test_images,  test_y_onehot, verbose=2)"
      ],
      "execution_count": null,
      "outputs": [
        {
          "output_type": "stream",
          "name": "stdout",
          "text": [
            "313/313 - 1s - loss: 0.0343 - accuracy: 0.9897 - 1s/epoch - 4ms/step\n"
          ]
        }
      ]
    },
    {
      "cell_type": "code",
      "metadata": {
        "id": "-DBTY06HxVrr",
        "colab": {
          "base_uri": "https://localhost:8080/"
        },
        "outputId": "ee7d56c2-2664-45a0-9988-38fe8f5962eb"
      },
      "source": [
        "print(test_acc)"
      ],
      "execution_count": null,
      "outputs": [
        {
          "output_type": "stream",
          "name": "stdout",
          "text": [
            "0.9897000193595886\n"
          ]
        }
      ]
    },
    {
      "cell_type": "code",
      "metadata": {
        "id": "dQzomalTyY0s",
        "colab": {
          "base_uri": "https://localhost:8080/"
        },
        "outputId": "254f5cc3-d690-4ef0-fd3f-8737760a682f"
      },
      "source": [
        " 9 * 32 + 32\n",
        " "
      ],
      "execution_count": null,
      "outputs": [
        {
          "output_type": "execute_result",
          "data": {
            "text/plain": [
              "320"
            ]
          },
          "metadata": {},
          "execution_count": 74
        }
      ]
    },
    {
      "cell_type": "code",
      "metadata": {
        "id": "KACPpN6EXVnr",
        "colab": {
          "base_uri": "https://localhost:8080/"
        },
        "outputId": "2be78e95-17ed-4f73-f93e-a42bc92c20c2"
      },
      "source": [
        "9*32*64+64"
      ],
      "execution_count": null,
      "outputs": [
        {
          "output_type": "execute_result",
          "data": {
            "text/plain": [
              "18496"
            ]
          },
          "metadata": {},
          "execution_count": 75
        }
      ]
    },
    {
      "cell_type": "code",
      "metadata": {
        "id": "FR-8AUUTYiOp",
        "colab": {
          "base_uri": "https://localhost:8080/"
        },
        "outputId": "29494f8f-5b4e-4af5-93ba-0a5c18de1e2e"
      },
      "source": [
        "print(model.layers[2].name)\n"
      ],
      "execution_count": null,
      "outputs": [
        {
          "output_type": "stream",
          "name": "stdout",
          "text": [
            "conv2d_1\n"
          ]
        }
      ]
    },
    {
      "cell_type": "code",
      "metadata": {
        "id": "IbCeXjR3LwhN"
      },
      "source": [
        "idx = 2"
      ],
      "execution_count": null,
      "outputs": []
    },
    {
      "cell_type": "code",
      "metadata": {
        "id": "X3QDv_J9LivB",
        "colab": {
          "base_uri": "https://localhost:8080/"
        },
        "outputId": "6bdb16d6-5219-4b84-e74b-bacc07c8b28b"
      },
      "source": [
        "len(model.layers[idx].get_weights())"
      ],
      "execution_count": null,
      "outputs": [
        {
          "output_type": "execute_result",
          "data": {
            "text/plain": [
              "2"
            ]
          },
          "metadata": {},
          "execution_count": 78
        }
      ]
    },
    {
      "cell_type": "code",
      "metadata": {
        "id": "MkiT5UQcq8wU",
        "colab": {
          "base_uri": "https://localhost:8080/"
        },
        "outputId": "9751f029-8ee5-4a5e-ebb6-18d1cef5617c"
      },
      "source": [
        "model.layers[idx].get_weights()"
      ],
      "execution_count": null,
      "outputs": [
        {
          "output_type": "execute_result",
          "data": {
            "text/plain": [
              "[array([[[[-0.02779533, -0.07592055, -0.03318109, ...,  0.16080314,\n",
              "           -0.20141663,  0.01831483],\n",
              "          [-0.4544023 ,  0.10423258, -0.10843063, ..., -0.0369141 ,\n",
              "            0.00937845, -0.16074295],\n",
              "          [-0.09053475, -0.06473734, -0.00798997, ..., -0.19309707,\n",
              "            0.04220664,  0.0283494 ],\n",
              "          ...,\n",
              "          [-0.02132236,  0.13476762, -0.01325601, ..., -0.08743851,\n",
              "           -0.04859139, -0.00237579],\n",
              "          [-0.00115407,  0.1549902 ,  0.0812281 , ..., -0.17364506,\n",
              "           -0.251826  , -0.03845681],\n",
              "          [-0.09336995,  0.10945468, -0.00989179, ...,  0.01493909,\n",
              "           -0.32837725,  0.08293115]],\n",
              " \n",
              "         [[-0.0152526 , -0.00697039, -0.07978975, ...,  0.19874737,\n",
              "           -0.12398291,  0.16776095],\n",
              "          [-0.30117312,  0.14057088, -0.0728982 , ..., -0.17800838,\n",
              "            0.01766808, -0.33008868],\n",
              "          [ 0.06868022, -0.04655471, -0.00999657, ..., -0.28221846,\n",
              "           -0.09968334, -0.01280111],\n",
              "          ...,\n",
              "          [ 0.00653021,  0.02455857,  0.05690018, ...,  0.02641731,\n",
              "           -0.24053966,  0.06309289],\n",
              "          [-0.08431081,  0.02373184, -0.01783259, ..., -0.02571739,\n",
              "           -0.27400002,  0.02327217],\n",
              "          [-0.06534214, -0.06631584,  0.04311841, ...,  0.09547505,\n",
              "           -0.16007742,  0.25800037]],\n",
              " \n",
              "         [[-0.05949527,  0.01112231,  0.13854893, ...,  0.09419424,\n",
              "           -0.08998251, -0.13069305],\n",
              "          [-0.15838534,  0.044014  , -0.16400811, ..., -0.32004082,\n",
              "            0.0364915 ,  0.05140331],\n",
              "          [ 0.03534519, -0.13659565,  0.05414224, ..., -0.04786378,\n",
              "           -0.15435989, -0.08332442],\n",
              "          ...,\n",
              "          [-0.03363309, -0.1284106 ,  0.03094975, ..., -0.05168195,\n",
              "           -0.12914135,  0.11553857],\n",
              "          [ 0.09420993,  0.03322197,  0.11549196, ...,  0.05515514,\n",
              "           -0.18923903,  0.1035649 ],\n",
              "          [ 0.10717774,  0.02133226,  0.21967809, ...,  0.10225272,\n",
              "           -0.07889592,  0.2401197 ]]],\n",
              " \n",
              " \n",
              "        [[[-0.18650067, -0.15554835, -0.14248137, ...,  0.06161196,\n",
              "            0.00737671,  0.09475467],\n",
              "          [-0.20674656,  0.03406207,  0.05945699, ..., -0.08774621,\n",
              "           -0.22740357, -0.4545059 ],\n",
              "          [-0.07664802, -0.02329596,  0.03342295, ...,  0.09030003,\n",
              "            0.14584434,  0.1604118 ],\n",
              "          ...,\n",
              "          [ 0.0010276 ,  0.0365634 ,  0.05446711, ..., -0.0512205 ,\n",
              "            0.07929643,  0.1412907 ],\n",
              "          [-0.11658145, -0.02038653, -0.01379556, ...,  0.03073745,\n",
              "            0.00809836,  0.02738431],\n",
              "          [-0.20422155,  0.00453552, -0.05163406, ...,  0.04300254,\n",
              "            0.02489865,  0.1552321 ]],\n",
              " \n",
              "         [[-0.1996452 ,  0.01570895, -0.21316178, ...,  0.12726036,\n",
              "           -0.02044816,  0.03868455],\n",
              "          [-0.35548002, -0.03228436,  0.02722761, ..., -0.20436373,\n",
              "           -0.11425341, -0.30218124],\n",
              "          [ 0.10141207, -0.13212101, -0.08105399, ..., -0.14236176,\n",
              "            0.1645122 ,  0.11444725],\n",
              "          ...,\n",
              "          [-0.00655021,  0.02844624,  0.0776208 , ...,  0.04255259,\n",
              "            0.08456393, -0.02555489],\n",
              "          [ 0.06236067,  0.00792035,  0.10706989, ...,  0.06288451,\n",
              "            0.0111111 , -0.01351287],\n",
              "          [-0.0975798 ,  0.0520675 ,  0.046019  , ...,  0.12691456,\n",
              "            0.01376716,  0.16501145]],\n",
              " \n",
              "         [[-0.21691374, -0.11085054, -0.02171383, ...,  0.05923718,\n",
              "           -0.15494196, -0.10378051],\n",
              "          [-0.16570486, -0.07024503,  0.07883569, ..., -0.4156462 ,\n",
              "           -0.00518179, -0.11704545],\n",
              "          [ 0.15768985, -0.04321979, -0.20499972, ...,  0.09289771,\n",
              "           -0.05809361,  0.01957263],\n",
              "          ...,\n",
              "          [-0.07863092, -0.10339455,  0.02231633, ...,  0.02708341,\n",
              "           -0.1623094 , -0.20578773],\n",
              "          [ 0.0026405 , -0.11528719,  0.1130496 , ...,  0.08304079,\n",
              "           -0.19585697,  0.04002247],\n",
              "          [-0.09494587, -0.08162387,  0.07971983, ..., -0.07977394,\n",
              "           -0.26480484,  0.1987628 ]]],\n",
              " \n",
              " \n",
              "        [[[-0.2595889 , -0.27673933, -0.06882402, ...,  0.14521801,\n",
              "            0.01929656, -0.18319415],\n",
              "          [ 0.13206215,  0.1150657 ,  0.2580507 , ...,  0.13550463,\n",
              "            0.05201134, -0.3586752 ],\n",
              "          [-0.4944164 , -0.15619701, -0.06530549, ...,  0.13804017,\n",
              "            0.17356616,  0.19314152],\n",
              "          ...,\n",
              "          [-0.23604582, -0.00768461, -0.1553622 , ..., -0.06445765,\n",
              "           -0.12031814, -0.07070175],\n",
              "          [-0.13784178,  0.01237562, -0.21163258, ..., -0.02875118,\n",
              "           -0.07107797, -0.2867439 ],\n",
              "          [-0.21405895, -0.2034227 , -0.12304255, ...,  0.05337247,\n",
              "           -0.17327453, -0.20279424]],\n",
              " \n",
              "         [[-0.30144775, -0.3392487 , -0.13180569, ...,  0.22235675,\n",
              "            0.01710967, -0.27851045],\n",
              "          [ 0.14140931,  0.21394247,  0.33706936, ..., -0.5023602 ,\n",
              "           -0.2766834 , -0.2984471 ],\n",
              "          [-0.11800101, -0.23499794, -0.08866169, ..., -0.06756856,\n",
              "            0.1431295 ,  0.15454   ],\n",
              "          ...,\n",
              "          [ 0.05309203, -0.12040187,  0.04166922, ...,  0.00495242,\n",
              "           -0.07499419,  0.00343316],\n",
              "          [-0.02125255, -0.017249  , -0.03632678, ..., -0.01753609,\n",
              "           -0.07385938, -0.00221624],\n",
              "          [-0.20260932, -0.30428764,  0.03554434, ...,  0.0315199 ,\n",
              "            0.04831693, -0.06189972]],\n",
              " \n",
              "         [[-0.54690224, -0.248182  ,  0.02072438, ...,  0.16734128,\n",
              "           -0.22288036, -0.50033486],\n",
              "          [-0.01395972,  0.19943386,  0.06834219, ..., -0.30414206,\n",
              "           -0.13080172, -0.40211216],\n",
              "          [ 0.05453097, -0.2618863 , -0.14848897, ...,  0.1901999 ,\n",
              "            0.27274638,  0.08278263],\n",
              "          ...,\n",
              "          [ 0.0522096 , -0.35857105,  0.03318237, ...,  0.04715762,\n",
              "           -0.07438265,  0.18504584],\n",
              "          [ 0.22076923, -0.35315996,  0.05337403, ..., -0.12826099,\n",
              "           -0.0792504 ,  0.1535403 ],\n",
              "          [ 0.10760523, -0.31765184,  0.02731839, ..., -0.24540672,\n",
              "           -0.11518294, -0.0859511 ]]]], dtype=float32),\n",
              " array([-9.61737484e-02, -2.14317460e-02, -3.66060063e-02, -4.34307791e-02,\n",
              "        -6.93347976e-02, -8.39315802e-02, -8.97720829e-02, -4.35343422e-02,\n",
              "         2.79733054e-02, -5.53803816e-02,  1.90601889e-02, -1.00940175e-01,\n",
              "        -6.38140216e-02, -5.79150245e-02,  1.22632924e-02, -7.91388080e-02,\n",
              "        -6.91213012e-02, -9.64113697e-02, -1.11869849e-01, -1.06463134e-01,\n",
              "        -9.50074345e-02, -5.66660948e-02, -4.52913307e-02, -8.16522986e-02,\n",
              "        -7.42788538e-02, -8.31253231e-02,  1.68539435e-02, -1.05178393e-01,\n",
              "        -3.28176916e-02, -9.76831540e-02,  2.05323379e-02, -6.60707429e-02,\n",
              "        -2.39403974e-02, -6.65905476e-02, -8.72272626e-03, -1.99632253e-02,\n",
              "        -2.80755642e-03,  2.56961794e-05, -2.92201806e-02, -1.58868462e-01,\n",
              "        -1.60247013e-01,  2.09624153e-02, -7.52417222e-02, -6.51798397e-02,\n",
              "        -1.32430375e-01, -9.39624235e-02, -7.48062804e-02, -1.46039635e-01,\n",
              "        -6.95533752e-02, -5.29006422e-02, -1.04973875e-01,  1.31947901e-02,\n",
              "        -2.16803106e-04, -1.00141831e-01, -5.55894114e-02, -1.03783183e-01,\n",
              "        -3.89915071e-02, -1.37985870e-01, -4.25702482e-02, -4.70831767e-02,\n",
              "        -8.88377894e-03,  6.28166869e-02, -2.62302011e-02, -1.57634854e-01],\n",
              "       dtype=float32)]"
            ]
          },
          "metadata": {},
          "execution_count": 79
        }
      ]
    },
    {
      "cell_type": "code",
      "metadata": {
        "id": "wTOwORfzLxNR",
        "colab": {
          "base_uri": "https://localhost:8080/"
        },
        "outputId": "075d7308-7695-45f1-acb1-42edc6da2ce8"
      },
      "source": [
        "model.layers[idx].get_weights()[0].shape, model.layers[idx].get_weights()[1].shape"
      ],
      "execution_count": null,
      "outputs": [
        {
          "output_type": "execute_result",
          "data": {
            "text/plain": [
              "((3, 3, 32, 64), (64,))"
            ]
          },
          "metadata": {},
          "execution_count": 80
        }
      ]
    },
    {
      "cell_type": "code",
      "metadata": {
        "id": "uarh_nRILzln",
        "colab": {
          "base_uri": "https://localhost:8080/"
        },
        "outputId": "ca466108-0756-489a-cc9b-f188b3b53b6b"
      },
      "source": [
        "import numpy as np\n",
        "h = model.layers[idx].output\n",
        "h"
      ],
      "execution_count": null,
      "outputs": [
        {
          "output_type": "execute_result",
          "data": {
            "text/plain": [
              "<KerasTensor: shape=(None, 11, 11, 64) dtype=float32 (created by layer 'conv2d_1')>"
            ]
          },
          "metadata": {},
          "execution_count": 81
        }
      ]
    },
    {
      "cell_type": "code",
      "metadata": {
        "id": "UGUzTj_qtSIi",
        "colab": {
          "base_uri": "https://localhost:8080/"
        },
        "outputId": "7a88b074-95c5-4582-ae14-184bc471f434"
      },
      "source": [
        "train_images[0].shape, np.expand_dims(train_images[0], axis = 0).shape"
      ],
      "execution_count": null,
      "outputs": [
        {
          "output_type": "execute_result",
          "data": {
            "text/plain": [
              "((28, 28, 1), (1, 28, 28, 1))"
            ]
          },
          "metadata": {},
          "execution_count": 82
        }
      ]
    },
    {
      "cell_type": "code",
      "metadata": {
        "id": "UZMfcl4sr4yq",
        "colab": {
          "base_uri": "https://localhost:8080/"
        },
        "outputId": "d6455608-f6fc-4392-e7d8-01ea85a7a33c"
      },
      "source": [
        "activation_model = tf.keras.models.Model(inputs = model.input, outputs = h)\n",
        "activations = activation_model.predict(np.expand_dims(train_images[0], axis = 0))\n",
        "activations[0].shape"
      ],
      "execution_count": null,
      "outputs": [
        {
          "output_type": "stream",
          "name": "stdout",
          "text": [
            "1/1 [==============================] - 0s 138ms/step\n"
          ]
        },
        {
          "output_type": "execute_result",
          "data": {
            "text/plain": [
              "(11, 11, 64)"
            ]
          },
          "metadata": {},
          "execution_count": 83
        }
      ]
    },
    {
      "cell_type": "code",
      "metadata": {
        "id": "mCcJH7Kssege",
        "colab": {
          "base_uri": "https://localhost:8080/",
          "height": 430
        },
        "outputId": "7042f2cf-7f32-41c1-a5a3-e89fe7c3d6d1"
      },
      "source": [
        "import matplotlib.pyplot as plt\n",
        "plt.imshow(activations[0][:,:,63])\n",
        "plt.show()"
      ],
      "execution_count": null,
      "outputs": [
        {
          "output_type": "display_data",
          "data": {
            "text/plain": [
              "<Figure size 640x480 with 1 Axes>"
            ],
            "image/png": "[encoded data removed]"
          },
          "metadata": {}
        }
      ]
    },
    {
      "cell_type": "code",
      "metadata": {
        "id": "D3x_lzBCMdwX",
        "colab": {
          "base_uri": "https://localhost:8080/"
        },
        "outputId": "25ceda0b-10d9-499d-a236-f12c7bf938e5"
      },
      "source": [
        "feature = activations[0].sum(axis = 2)\n",
        "feature.shape"
      ],
      "execution_count": null,
      "outputs": [
        {
          "output_type": "execute_result",
          "data": {
            "text/plain": [
              "(11, 11)"
            ]
          },
          "metadata": {},
          "execution_count": 85
        }
      ]
    },
    {
      "cell_type": "code",
      "metadata": {
        "id": "SdCqWlfHL7M4",
        "colab": {
          "base_uri": "https://localhost:8080/",
          "height": 843
        },
        "outputId": "9f042db2-2166-4a3f-9a21-455fd5cf2e8e"
      },
      "source": [
        "import matplotlib.pyplot as plt\n",
        "plt.imshow(train_images[0].reshape(28,28))\n",
        "plt.show()\n",
        "plt.imshow(feature)\n",
        "plt.show()"
      ],
      "execution_count": null,
      "outputs": [
        {
          "output_type": "display_data",
          "data": {
            "text/plain": [
              "<Figure size 640x480 with 1 Axes>"
            ],
            "image/png": "[encoded data removed]"
          },
          "metadata": {}
        },
        {
          "output_type": "display_data",
          "data": {
            "text/plain": [
              "<Figure size 640x480 with 1 Axes>"
            ],
            "image/png": "[encoded data removed]"
          },
          "metadata": {}
        }
      ]
    },
    {
      "cell_type": "code",
      "source": [],
      "metadata": {
        "id": "KjW50DigZmTl"
      },
      "execution_count": null,
      "outputs": []
    },
    {
      "cell_type": "code",
      "source": [],
      "metadata": {
        "id": "N7bSEmmUZmgV"
      },
      "execution_count": null,
      "outputs": []
    }
  ]
}